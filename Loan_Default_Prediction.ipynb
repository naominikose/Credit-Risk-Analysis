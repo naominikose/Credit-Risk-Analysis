{
 "cells": [
  {
   "cell_type": "code",
   "execution_count": 1,
   "metadata": {},
   "outputs": [
    {
     "data": {
      "text/plain": [
       "'E:\\\\Python Project - Bank Lending'"
      ]
     },
     "execution_count": 1,
     "metadata": {},
     "output_type": "execute_result"
    }
   ],
   "source": [
    "import os\n",
    "os.chdir('E:\\\\Python Project - Bank Lending')\n",
    "os.getcwd()"
   ]
  },
  {
   "cell_type": "markdown",
   "metadata": {},
   "source": [
    "# Import Libraries"
   ]
  },
  {
   "cell_type": "code",
   "execution_count": 2,
   "metadata": {},
   "outputs": [],
   "source": [
    "import numpy as np\n",
    "import pandas as pd\n",
    "import matplotlib.pyplot as plt\n",
    "from matplotlib import style\n",
    "from sklearn.model_selection import train_test_split\n",
    "from sklearn.ensemble import RandomForestClassifier\n",
    "from sklearn.neighbors import KNeighborsClassifier\n",
    "from sklearn.metrics import accuracy_score\n",
    "import matplotlib.pyplot as plt\n",
    "import seaborn as sns\n",
    "%matplotlib inline\n",
    "from sklearn.metrics import confusion_matrix,precision_score,recall_score,roc_auc_score"
   ]
  },
  {
   "cell_type": "code",
   "execution_count": 3,
   "metadata": {},
   "outputs": [],
   "source": [
    "from sklearn.linear_model import LogisticRegression"
   ]
  },
  {
   "cell_type": "markdown",
   "metadata": {},
   "source": [
    "# Data Sourcing"
   ]
  },
  {
   "cell_type": "code",
   "execution_count": 4,
   "metadata": {},
   "outputs": [
    {
     "name": "stdout",
     "output_type": "stream",
     "text": [
      "Wall time: 50.4 s\n"
     ]
    }
   ],
   "source": [
    "#df = pd.read_csv(\"XYZCorp_LendingData.txt\", sep='\\t')\n",
    "%time df = pd.read_table('XYZCorp_LendingData.txt',parse_dates=['issue_d'],low_memory=False)"
   ]
  },
  {
   "cell_type": "code",
   "execution_count": 5,
   "metadata": {},
   "outputs": [
    {
     "data": {
      "text/plain": [
       "(855969, 73)"
      ]
     },
     "execution_count": 5,
     "metadata": {},
     "output_type": "execute_result"
    }
   ],
   "source": [
    "df.shape"
   ]
  },
  {
   "cell_type": "code",
   "execution_count": 6,
   "metadata": {},
   "outputs": [],
   "source": [
    "#df['issue_d']= pd.to_datetime(df['issue_d']).apply(lambda x: int(x.strftime('%Y%m')))\n",
    "#df = df.sort_values('issue_d')\n",
    "#df = df.set_index('issue_d')"
   ]
  },
  {
   "cell_type": "code",
   "execution_count": 7,
   "metadata": {},
   "outputs": [
    {
     "data": {
      "text/html": [
       "<div>\n",
       "<style scoped>\n",
       "    .dataframe tbody tr th:only-of-type {\n",
       "        vertical-align: middle;\n",
       "    }\n",
       "\n",
       "    .dataframe tbody tr th {\n",
       "        vertical-align: top;\n",
       "    }\n",
       "\n",
       "    .dataframe thead th {\n",
       "        text-align: right;\n",
       "    }\n",
       "</style>\n",
       "<table border=\"1\" class=\"dataframe\">\n",
       "  <thead>\n",
       "    <tr style=\"text-align: right;\">\n",
       "      <th></th>\n",
       "      <th>id</th>\n",
       "      <th>member_id</th>\n",
       "      <th>loan_amnt</th>\n",
       "      <th>funded_amnt</th>\n",
       "      <th>funded_amnt_inv</th>\n",
       "      <th>term</th>\n",
       "      <th>int_rate</th>\n",
       "      <th>installment</th>\n",
       "      <th>grade</th>\n",
       "      <th>sub_grade</th>\n",
       "      <th>...</th>\n",
       "      <th>il_util</th>\n",
       "      <th>open_rv_12m</th>\n",
       "      <th>open_rv_24m</th>\n",
       "      <th>max_bal_bc</th>\n",
       "      <th>all_util</th>\n",
       "      <th>total_rev_hi_lim</th>\n",
       "      <th>inq_fi</th>\n",
       "      <th>total_cu_tl</th>\n",
       "      <th>inq_last_12m</th>\n",
       "      <th>default_ind</th>\n",
       "    </tr>\n",
       "  </thead>\n",
       "  <tbody>\n",
       "    <tr>\n",
       "      <th>0</th>\n",
       "      <td>1077501</td>\n",
       "      <td>1296599</td>\n",
       "      <td>5000.0</td>\n",
       "      <td>5000.0</td>\n",
       "      <td>4975.0</td>\n",
       "      <td>36 months</td>\n",
       "      <td>10.65</td>\n",
       "      <td>162.87</td>\n",
       "      <td>B</td>\n",
       "      <td>B2</td>\n",
       "      <td>...</td>\n",
       "      <td>NaN</td>\n",
       "      <td>NaN</td>\n",
       "      <td>NaN</td>\n",
       "      <td>NaN</td>\n",
       "      <td>NaN</td>\n",
       "      <td>NaN</td>\n",
       "      <td>NaN</td>\n",
       "      <td>NaN</td>\n",
       "      <td>NaN</td>\n",
       "      <td>0</td>\n",
       "    </tr>\n",
       "    <tr>\n",
       "      <th>1</th>\n",
       "      <td>1077430</td>\n",
       "      <td>1314167</td>\n",
       "      <td>2500.0</td>\n",
       "      <td>2500.0</td>\n",
       "      <td>2500.0</td>\n",
       "      <td>60 months</td>\n",
       "      <td>15.27</td>\n",
       "      <td>59.83</td>\n",
       "      <td>C</td>\n",
       "      <td>C4</td>\n",
       "      <td>...</td>\n",
       "      <td>NaN</td>\n",
       "      <td>NaN</td>\n",
       "      <td>NaN</td>\n",
       "      <td>NaN</td>\n",
       "      <td>NaN</td>\n",
       "      <td>NaN</td>\n",
       "      <td>NaN</td>\n",
       "      <td>NaN</td>\n",
       "      <td>NaN</td>\n",
       "      <td>1</td>\n",
       "    </tr>\n",
       "    <tr>\n",
       "      <th>2</th>\n",
       "      <td>1077175</td>\n",
       "      <td>1313524</td>\n",
       "      <td>2400.0</td>\n",
       "      <td>2400.0</td>\n",
       "      <td>2400.0</td>\n",
       "      <td>36 months</td>\n",
       "      <td>15.96</td>\n",
       "      <td>84.33</td>\n",
       "      <td>C</td>\n",
       "      <td>C5</td>\n",
       "      <td>...</td>\n",
       "      <td>NaN</td>\n",
       "      <td>NaN</td>\n",
       "      <td>NaN</td>\n",
       "      <td>NaN</td>\n",
       "      <td>NaN</td>\n",
       "      <td>NaN</td>\n",
       "      <td>NaN</td>\n",
       "      <td>NaN</td>\n",
       "      <td>NaN</td>\n",
       "      <td>0</td>\n",
       "    </tr>\n",
       "    <tr>\n",
       "      <th>3</th>\n",
       "      <td>1076863</td>\n",
       "      <td>1277178</td>\n",
       "      <td>10000.0</td>\n",
       "      <td>10000.0</td>\n",
       "      <td>10000.0</td>\n",
       "      <td>36 months</td>\n",
       "      <td>13.49</td>\n",
       "      <td>339.31</td>\n",
       "      <td>C</td>\n",
       "      <td>C1</td>\n",
       "      <td>...</td>\n",
       "      <td>NaN</td>\n",
       "      <td>NaN</td>\n",
       "      <td>NaN</td>\n",
       "      <td>NaN</td>\n",
       "      <td>NaN</td>\n",
       "      <td>NaN</td>\n",
       "      <td>NaN</td>\n",
       "      <td>NaN</td>\n",
       "      <td>NaN</td>\n",
       "      <td>0</td>\n",
       "    </tr>\n",
       "    <tr>\n",
       "      <th>4</th>\n",
       "      <td>1075358</td>\n",
       "      <td>1311748</td>\n",
       "      <td>3000.0</td>\n",
       "      <td>3000.0</td>\n",
       "      <td>3000.0</td>\n",
       "      <td>60 months</td>\n",
       "      <td>12.69</td>\n",
       "      <td>67.79</td>\n",
       "      <td>B</td>\n",
       "      <td>B5</td>\n",
       "      <td>...</td>\n",
       "      <td>NaN</td>\n",
       "      <td>NaN</td>\n",
       "      <td>NaN</td>\n",
       "      <td>NaN</td>\n",
       "      <td>NaN</td>\n",
       "      <td>NaN</td>\n",
       "      <td>NaN</td>\n",
       "      <td>NaN</td>\n",
       "      <td>NaN</td>\n",
       "      <td>0</td>\n",
       "    </tr>\n",
       "  </tbody>\n",
       "</table>\n",
       "<p>5 rows × 73 columns</p>\n",
       "</div>"
      ],
      "text/plain": [
       "        id  member_id  loan_amnt  funded_amnt  funded_amnt_inv        term  \\\n",
       "0  1077501    1296599     5000.0       5000.0           4975.0   36 months   \n",
       "1  1077430    1314167     2500.0       2500.0           2500.0   60 months   \n",
       "2  1077175    1313524     2400.0       2400.0           2400.0   36 months   \n",
       "3  1076863    1277178    10000.0      10000.0          10000.0   36 months   \n",
       "4  1075358    1311748     3000.0       3000.0           3000.0   60 months   \n",
       "\n",
       "   int_rate  installment grade sub_grade     ...     il_util open_rv_12m  \\\n",
       "0     10.65       162.87     B        B2     ...         NaN         NaN   \n",
       "1     15.27        59.83     C        C4     ...         NaN         NaN   \n",
       "2     15.96        84.33     C        C5     ...         NaN         NaN   \n",
       "3     13.49       339.31     C        C1     ...         NaN         NaN   \n",
       "4     12.69        67.79     B        B5     ...         NaN         NaN   \n",
       "\n",
       "  open_rv_24m  max_bal_bc all_util total_rev_hi_lim inq_fi total_cu_tl  \\\n",
       "0         NaN         NaN      NaN              NaN    NaN         NaN   \n",
       "1         NaN         NaN      NaN              NaN    NaN         NaN   \n",
       "2         NaN         NaN      NaN              NaN    NaN         NaN   \n",
       "3         NaN         NaN      NaN              NaN    NaN         NaN   \n",
       "4         NaN         NaN      NaN              NaN    NaN         NaN   \n",
       "\n",
       "  inq_last_12m default_ind  \n",
       "0          NaN           0  \n",
       "1          NaN           1  \n",
       "2          NaN           0  \n",
       "3          NaN           0  \n",
       "4          NaN           0  \n",
       "\n",
       "[5 rows x 73 columns]"
      ]
     },
     "execution_count": 7,
     "metadata": {},
     "output_type": "execute_result"
    }
   ],
   "source": [
    "df.head()"
   ]
  },
  {
   "cell_type": "code",
   "execution_count": 8,
   "metadata": {},
   "outputs": [
    {
     "name": "stdout",
     "output_type": "stream",
     "text": [
      "<class 'pandas.core.frame.DataFrame'>\n",
      "RangeIndex: 855969 entries, 0 to 855968\n",
      "Data columns (total 73 columns):\n",
      "id                             855969 non-null int64\n",
      "member_id                      855969 non-null int64\n",
      "loan_amnt                      855969 non-null float64\n",
      "funded_amnt                    855969 non-null float64\n",
      "funded_amnt_inv                855969 non-null float64\n",
      "term                           855969 non-null object\n",
      "int_rate                       855969 non-null float64\n",
      "installment                    855969 non-null float64\n",
      "grade                          855969 non-null object\n",
      "sub_grade                      855969 non-null object\n",
      "emp_title                      806526 non-null object\n",
      "emp_length                     812908 non-null object\n",
      "home_ownership                 855969 non-null object\n",
      "annual_inc                     855969 non-null float64\n",
      "verification_status            855969 non-null object\n",
      "issue_d                        855969 non-null datetime64[ns]\n",
      "pymnt_plan                     855969 non-null object\n",
      "desc                           121812 non-null object\n",
      "purpose                        855969 non-null object\n",
      "title                          855936 non-null object\n",
      "zip_code                       855969 non-null object\n",
      "addr_state                     855969 non-null object\n",
      "dti                            855969 non-null float64\n",
      "delinq_2yrs                    855969 non-null float64\n",
      "earliest_cr_line               855969 non-null object\n",
      "inq_last_6mths                 855969 non-null float64\n",
      "mths_since_last_delinq         416157 non-null float64\n",
      "mths_since_last_record         131184 non-null float64\n",
      "open_acc                       855969 non-null float64\n",
      "pub_rec                        855969 non-null float64\n",
      "revol_bal                      855969 non-null float64\n",
      "revol_util                     855523 non-null float64\n",
      "total_acc                      855969 non-null float64\n",
      "initial_list_status            855969 non-null object\n",
      "out_prncp                      855969 non-null float64\n",
      "out_prncp_inv                  855969 non-null float64\n",
      "total_pymnt                    855969 non-null float64\n",
      "total_pymnt_inv                855969 non-null float64\n",
      "total_rec_prncp                855969 non-null float64\n",
      "total_rec_int                  855969 non-null float64\n",
      "total_rec_late_fee             855969 non-null float64\n",
      "recoveries                     855969 non-null float64\n",
      "collection_recovery_fee        855969 non-null float64\n",
      "last_pymnt_d                   847107 non-null object\n",
      "last_pymnt_amnt                855969 non-null float64\n",
      "next_pymnt_d                   602998 non-null object\n",
      "last_credit_pull_d             855919 non-null object\n",
      "collections_12_mths_ex_med     855913 non-null float64\n",
      "mths_since_last_major_derog    213139 non-null float64\n",
      "policy_code                    855969 non-null float64\n",
      "application_type               855969 non-null object\n",
      "annual_inc_joint               442 non-null float64\n",
      "dti_joint                      440 non-null float64\n",
      "verification_status_joint      442 non-null object\n",
      "acc_now_delinq                 855969 non-null float64\n",
      "tot_coll_amt                   788656 non-null float64\n",
      "tot_cur_bal                    788656 non-null float64\n",
      "open_acc_6m                    13288 non-null float64\n",
      "open_il_6m                     13288 non-null float64\n",
      "open_il_12m                    13288 non-null float64\n",
      "open_il_24m                    13288 non-null float64\n",
      "mths_since_rcnt_il             12934 non-null float64\n",
      "total_bal_il                   13288 non-null float64\n",
      "il_util                        11609 non-null float64\n",
      "open_rv_12m                    13288 non-null float64\n",
      "open_rv_24m                    13288 non-null float64\n",
      "max_bal_bc                     13288 non-null float64\n",
      "all_util                       13288 non-null float64\n",
      "total_rev_hi_lim               788656 non-null float64\n",
      "inq_fi                         13288 non-null float64\n",
      "total_cu_tl                    13288 non-null float64\n",
      "inq_last_12m                   13288 non-null float64\n",
      "default_ind                    855969 non-null int64\n",
      "dtypes: datetime64[ns](1), float64(49), int64(3), object(20)\n",
      "memory usage: 476.7+ MB\n"
     ]
    }
   ],
   "source": [
    "loan = df\n",
    "loan.info()"
   ]
  },
  {
   "cell_type": "code",
   "execution_count": 9,
   "metadata": {},
   "outputs": [
    {
     "data": {
      "text/plain": [
       "Index(['id', 'member_id', 'loan_amnt', 'funded_amnt', 'funded_amnt_inv',\n",
       "       'term', 'int_rate', 'installment', 'grade', 'sub_grade', 'emp_title',\n",
       "       'emp_length', 'home_ownership', 'annual_inc', 'verification_status',\n",
       "       'issue_d', 'pymnt_plan', 'desc', 'purpose', 'title', 'zip_code',\n",
       "       'addr_state', 'dti', 'delinq_2yrs', 'earliest_cr_line',\n",
       "       'inq_last_6mths', 'mths_since_last_delinq', 'mths_since_last_record',\n",
       "       'open_acc', 'pub_rec', 'revol_bal', 'revol_util', 'total_acc',\n",
       "       'initial_list_status', 'out_prncp', 'out_prncp_inv', 'total_pymnt',\n",
       "       'total_pymnt_inv', 'total_rec_prncp', 'total_rec_int',\n",
       "       'total_rec_late_fee', 'recoveries', 'collection_recovery_fee',\n",
       "       'last_pymnt_d', 'last_pymnt_amnt', 'next_pymnt_d', 'last_credit_pull_d',\n",
       "       'collections_12_mths_ex_med', 'mths_since_last_major_derog',\n",
       "       'policy_code', 'application_type', 'annual_inc_joint', 'dti_joint',\n",
       "       'verification_status_joint', 'acc_now_delinq', 'tot_coll_amt',\n",
       "       'tot_cur_bal', 'open_acc_6m', 'open_il_6m', 'open_il_12m',\n",
       "       'open_il_24m', 'mths_since_rcnt_il', 'total_bal_il', 'il_util',\n",
       "       'open_rv_12m', 'open_rv_24m', 'max_bal_bc', 'all_util',\n",
       "       'total_rev_hi_lim', 'inq_fi', 'total_cu_tl', 'inq_last_12m',\n",
       "       'default_ind'],\n",
       "      dtype='object')"
      ]
     },
     "execution_count": 9,
     "metadata": {},
     "output_type": "execute_result"
    }
   ],
   "source": [
    "#looking at all the column names\n",
    "loan.columns"
   ]
  },
  {
   "cell_type": "markdown",
   "metadata": {},
   "source": [
    "Some of the important columns in the dataset are loan_amount, term, interest rate, grade, sub grade, annual income, purpose of the loan etc.\n",
    "\n",
    "The target variable, which we want to compare across the independent variables, is loan status. The strategy is to figure out and \n",
    "compare the average default rates across various independent variables and identify the ones that affect default rate the most.\n"
   ]
  },
  {
   "cell_type": "markdown",
   "metadata": {},
   "source": [
    "# Data Cleaning\n",
    "Some columns have a large number of missing values, let's first fix the missing values and then check for other types of data quality problems."
   ]
  },
  {
   "cell_type": "code",
   "execution_count": 10,
   "metadata": {},
   "outputs": [
    {
     "data": {
      "text/plain": [
       "id                                  0\n",
       "member_id                           0\n",
       "loan_amnt                           0\n",
       "funded_amnt                         0\n",
       "funded_amnt_inv                     0\n",
       "term                                0\n",
       "int_rate                            0\n",
       "installment                         0\n",
       "grade                               0\n",
       "sub_grade                           0\n",
       "emp_title                       49443\n",
       "emp_length                      43061\n",
       "home_ownership                      0\n",
       "annual_inc                          0\n",
       "verification_status                 0\n",
       "issue_d                             0\n",
       "pymnt_plan                          0\n",
       "desc                           734157\n",
       "purpose                             0\n",
       "title                              33\n",
       "zip_code                            0\n",
       "addr_state                          0\n",
       "dti                                 0\n",
       "delinq_2yrs                         0\n",
       "earliest_cr_line                    0\n",
       "inq_last_6mths                      0\n",
       "mths_since_last_delinq         439812\n",
       "mths_since_last_record         724785\n",
       "open_acc                            0\n",
       "pub_rec                             0\n",
       "                                ...  \n",
       "last_pymnt_d                     8862\n",
       "last_pymnt_amnt                     0\n",
       "next_pymnt_d                   252971\n",
       "last_credit_pull_d                 50\n",
       "collections_12_mths_ex_med         56\n",
       "mths_since_last_major_derog    642830\n",
       "policy_code                         0\n",
       "application_type                    0\n",
       "annual_inc_joint               855527\n",
       "dti_joint                      855529\n",
       "verification_status_joint      855527\n",
       "acc_now_delinq                      0\n",
       "tot_coll_amt                    67313\n",
       "tot_cur_bal                     67313\n",
       "open_acc_6m                    842681\n",
       "open_il_6m                     842681\n",
       "open_il_12m                    842681\n",
       "open_il_24m                    842681\n",
       "mths_since_rcnt_il             843035\n",
       "total_bal_il                   842681\n",
       "il_util                        844360\n",
       "open_rv_12m                    842681\n",
       "open_rv_24m                    842681\n",
       "max_bal_bc                     842681\n",
       "all_util                       842681\n",
       "total_rev_hi_lim                67313\n",
       "inq_fi                         842681\n",
       "total_cu_tl                    842681\n",
       "inq_last_12m                   842681\n",
       "default_ind                         0\n",
       "Length: 73, dtype: int64"
      ]
     },
     "execution_count": 10,
     "metadata": {},
     "output_type": "execute_result"
    }
   ],
   "source": [
    "loan.isnull().sum()"
   ]
  },
  {
   "cell_type": "code",
   "execution_count": 11,
   "metadata": {},
   "outputs": [
    {
     "data": {
      "text/plain": [
       "id                               0.0\n",
       "member_id                        0.0\n",
       "loan_amnt                        0.0\n",
       "funded_amnt                      0.0\n",
       "funded_amnt_inv                  0.0\n",
       "term                             0.0\n",
       "int_rate                         0.0\n",
       "installment                      0.0\n",
       "grade                            0.0\n",
       "sub_grade                        0.0\n",
       "emp_title                        6.0\n",
       "emp_length                       5.0\n",
       "home_ownership                   0.0\n",
       "annual_inc                       0.0\n",
       "verification_status              0.0\n",
       "issue_d                          0.0\n",
       "pymnt_plan                       0.0\n",
       "desc                            86.0\n",
       "purpose                          0.0\n",
       "title                            0.0\n",
       "zip_code                         0.0\n",
       "addr_state                       0.0\n",
       "dti                              0.0\n",
       "delinq_2yrs                      0.0\n",
       "earliest_cr_line                 0.0\n",
       "inq_last_6mths                   0.0\n",
       "mths_since_last_delinq          51.0\n",
       "mths_since_last_record          85.0\n",
       "open_acc                         0.0\n",
       "pub_rec                          0.0\n",
       "                               ...  \n",
       "last_pymnt_d                     1.0\n",
       "last_pymnt_amnt                  0.0\n",
       "next_pymnt_d                    30.0\n",
       "last_credit_pull_d               0.0\n",
       "collections_12_mths_ex_med       0.0\n",
       "mths_since_last_major_derog     75.0\n",
       "policy_code                      0.0\n",
       "application_type                 0.0\n",
       "annual_inc_joint               100.0\n",
       "dti_joint                      100.0\n",
       "verification_status_joint      100.0\n",
       "acc_now_delinq                   0.0\n",
       "tot_coll_amt                     8.0\n",
       "tot_cur_bal                      8.0\n",
       "open_acc_6m                     98.0\n",
       "open_il_6m                      98.0\n",
       "open_il_12m                     98.0\n",
       "open_il_24m                     98.0\n",
       "mths_since_rcnt_il              98.0\n",
       "total_bal_il                    98.0\n",
       "il_util                         99.0\n",
       "open_rv_12m                     98.0\n",
       "open_rv_24m                     98.0\n",
       "max_bal_bc                      98.0\n",
       "all_util                        98.0\n",
       "total_rev_hi_lim                 8.0\n",
       "inq_fi                          98.0\n",
       "total_cu_tl                     98.0\n",
       "inq_last_12m                    98.0\n",
       "default_ind                      0.0\n",
       "Length: 73, dtype: float64"
      ]
     },
     "execution_count": 11,
     "metadata": {},
     "output_type": "execute_result"
    }
   ],
   "source": [
    "#percentage of missing value in each column\n",
    "round(loan.isnull().sum()/len(loan),2)*100"
   ]
  },
  {
   "cell_type": "code",
   "execution_count": 12,
   "metadata": {},
   "outputs": [
    {
     "name": "stdout",
     "output_type": "stream",
     "text": [
      "Index(['annual_inc_joint', 'dti_joint', 'verification_status_joint',\n",
      "       'open_acc_6m', 'open_il_6m', 'open_il_12m', 'open_il_24m',\n",
      "       'mths_since_rcnt_il', 'total_bal_il', 'il_util', 'open_rv_12m',\n",
      "       'open_rv_24m', 'max_bal_bc', 'all_util', 'inq_fi', 'total_cu_tl',\n",
      "       'inq_last_12m'],\n",
      "      dtype='object')\n"
     ]
    }
   ],
   "source": [
    "missing_columns = loan.columns[(loan.isnull().sum()/len(loan))*100 >90]\n",
    "print(missing_columns)"
   ]
  },
  {
   "cell_type": "code",
   "execution_count": 13,
   "metadata": {},
   "outputs": [
    {
     "name": "stdout",
     "output_type": "stream",
     "text": [
      "(855969, 56)\n"
     ]
    }
   ],
   "source": [
    "loan = loan.drop(missing_columns,axis=1)\n",
    "print(loan.shape)"
   ]
  },
  {
   "cell_type": "code",
   "execution_count": 14,
   "metadata": {},
   "outputs": [
    {
     "data": {
      "text/plain": [
       "id                              0.0\n",
       "member_id                       0.0\n",
       "loan_amnt                       0.0\n",
       "funded_amnt                     0.0\n",
       "funded_amnt_inv                 0.0\n",
       "term                            0.0\n",
       "int_rate                        0.0\n",
       "installment                     0.0\n",
       "grade                           0.0\n",
       "sub_grade                       0.0\n",
       "emp_title                       6.0\n",
       "emp_length                      5.0\n",
       "home_ownership                  0.0\n",
       "annual_inc                      0.0\n",
       "verification_status             0.0\n",
       "issue_d                         0.0\n",
       "pymnt_plan                      0.0\n",
       "desc                           86.0\n",
       "purpose                         0.0\n",
       "title                           0.0\n",
       "zip_code                        0.0\n",
       "addr_state                      0.0\n",
       "dti                             0.0\n",
       "delinq_2yrs                     0.0\n",
       "earliest_cr_line                0.0\n",
       "inq_last_6mths                  0.0\n",
       "mths_since_last_delinq         51.0\n",
       "mths_since_last_record         85.0\n",
       "open_acc                        0.0\n",
       "pub_rec                         0.0\n",
       "revol_bal                       0.0\n",
       "revol_util                      0.0\n",
       "total_acc                       0.0\n",
       "initial_list_status             0.0\n",
       "out_prncp                       0.0\n",
       "out_prncp_inv                   0.0\n",
       "total_pymnt                     0.0\n",
       "total_pymnt_inv                 0.0\n",
       "total_rec_prncp                 0.0\n",
       "total_rec_int                   0.0\n",
       "total_rec_late_fee              0.0\n",
       "recoveries                      0.0\n",
       "collection_recovery_fee         0.0\n",
       "last_pymnt_d                    1.0\n",
       "last_pymnt_amnt                 0.0\n",
       "next_pymnt_d                   30.0\n",
       "last_credit_pull_d              0.0\n",
       "collections_12_mths_ex_med      0.0\n",
       "mths_since_last_major_derog    75.0\n",
       "policy_code                     0.0\n",
       "application_type                0.0\n",
       "acc_now_delinq                  0.0\n",
       "tot_coll_amt                    8.0\n",
       "tot_cur_bal                     8.0\n",
       "total_rev_hi_lim                8.0\n",
       "default_ind                     0.0\n",
       "dtype: float64"
      ]
     },
     "execution_count": 14,
     "metadata": {},
     "output_type": "execute_result"
    }
   ],
   "source": [
    "#again check the missing values percentage\n",
    "round(loan.isnull().sum()/len(loan),2)*100"
   ]
  },
  {
   "cell_type": "code",
   "execution_count": 15,
   "metadata": {
    "scrolled": true
   },
   "outputs": [
    {
     "data": {
      "text/html": [
       "<div>\n",
       "<style scoped>\n",
       "    .dataframe tbody tr th:only-of-type {\n",
       "        vertical-align: middle;\n",
       "    }\n",
       "\n",
       "    .dataframe tbody tr th {\n",
       "        vertical-align: top;\n",
       "    }\n",
       "\n",
       "    .dataframe thead th {\n",
       "        text-align: right;\n",
       "    }\n",
       "</style>\n",
       "<table border=\"1\" class=\"dataframe\">\n",
       "  <thead>\n",
       "    <tr style=\"text-align: right;\">\n",
       "      <th></th>\n",
       "      <th>desc</th>\n",
       "      <th>mths_since_last_delinq</th>\n",
       "      <th>mths_since_last_record</th>\n",
       "      <th>mths_since_last_major_derog</th>\n",
       "    </tr>\n",
       "  </thead>\n",
       "  <tbody>\n",
       "    <tr>\n",
       "      <th>0</th>\n",
       "      <td>Borrower added on 12/22/11 &gt; I need to upgra...</td>\n",
       "      <td>NaN</td>\n",
       "      <td>NaN</td>\n",
       "      <td>NaN</td>\n",
       "    </tr>\n",
       "    <tr>\n",
       "      <th>1</th>\n",
       "      <td>Borrower added on 12/22/11 &gt; I plan to use t...</td>\n",
       "      <td>NaN</td>\n",
       "      <td>NaN</td>\n",
       "      <td>NaN</td>\n",
       "    </tr>\n",
       "    <tr>\n",
       "      <th>2</th>\n",
       "      <td>NaN</td>\n",
       "      <td>NaN</td>\n",
       "      <td>NaN</td>\n",
       "      <td>NaN</td>\n",
       "    </tr>\n",
       "    <tr>\n",
       "      <th>3</th>\n",
       "      <td>Borrower added on 12/21/11 &gt; to pay for prop...</td>\n",
       "      <td>35.0</td>\n",
       "      <td>NaN</td>\n",
       "      <td>NaN</td>\n",
       "    </tr>\n",
       "    <tr>\n",
       "      <th>4</th>\n",
       "      <td>Borrower added on 12/21/11 &gt; I plan on combi...</td>\n",
       "      <td>38.0</td>\n",
       "      <td>NaN</td>\n",
       "      <td>NaN</td>\n",
       "    </tr>\n",
       "  </tbody>\n",
       "</table>\n",
       "</div>"
      ],
      "text/plain": [
       "                                                desc  mths_since_last_delinq  \\\n",
       "0    Borrower added on 12/22/11 > I need to upgra...                     NaN   \n",
       "1    Borrower added on 12/22/11 > I plan to use t...                     NaN   \n",
       "2                                                NaN                     NaN   \n",
       "3    Borrower added on 12/21/11 > to pay for prop...                    35.0   \n",
       "4    Borrower added on 12/21/11 > I plan on combi...                    38.0   \n",
       "\n",
       "   mths_since_last_record  mths_since_last_major_derog  \n",
       "0                     NaN                          NaN  \n",
       "1                     NaN                          NaN  \n",
       "2                     NaN                          NaN  \n",
       "3                     NaN                          NaN  \n",
       "4                     NaN                          NaN  "
      ]
     },
     "execution_count": 15,
     "metadata": {},
     "output_type": "execute_result"
    }
   ],
   "source": [
    "#there are now 5 columns having approx more than 30% missing value\n",
    "#lets see some of the entries in the columns\n",
    "loan.loc[:, ['desc','mths_since_last_delinq', 'mths_since_last_record','mths_since_last_major_derog']].head()"
   ]
  },
  {
   "cell_type": "code",
   "execution_count": 16,
   "metadata": {},
   "outputs": [],
   "source": [
    "#dropping the 5 more columns\n",
    "loan = loan.drop(['desc','mths_since_last_delinq', 'mths_since_last_record','mths_since_last_major_derog'],axis=1)"
   ]
  },
  {
   "cell_type": "code",
   "execution_count": 17,
   "metadata": {},
   "outputs": [
    {
     "data": {
      "text/plain": [
       "id                             0.000000\n",
       "member_id                      0.000000\n",
       "loan_amnt                      0.000000\n",
       "funded_amnt                    0.000000\n",
       "funded_amnt_inv                0.000000\n",
       "term                           0.000000\n",
       "int_rate                       0.000000\n",
       "installment                    0.000000\n",
       "grade                          0.000000\n",
       "sub_grade                      0.000000\n",
       "emp_title                      5.776261\n",
       "emp_length                     5.030673\n",
       "home_ownership                 0.000000\n",
       "annual_inc                     0.000000\n",
       "verification_status            0.000000\n",
       "issue_d                        0.000000\n",
       "pymnt_plan                     0.000000\n",
       "purpose                        0.000000\n",
       "title                          0.003855\n",
       "zip_code                       0.000000\n",
       "addr_state                     0.000000\n",
       "dti                            0.000000\n",
       "delinq_2yrs                    0.000000\n",
       "earliest_cr_line               0.000000\n",
       "inq_last_6mths                 0.000000\n",
       "open_acc                       0.000000\n",
       "pub_rec                        0.000000\n",
       "revol_bal                      0.000000\n",
       "revol_util                     0.052105\n",
       "total_acc                      0.000000\n",
       "initial_list_status            0.000000\n",
       "out_prncp                      0.000000\n",
       "out_prncp_inv                  0.000000\n",
       "total_pymnt                    0.000000\n",
       "total_pymnt_inv                0.000000\n",
       "total_rec_prncp                0.000000\n",
       "total_rec_int                  0.000000\n",
       "total_rec_late_fee             0.000000\n",
       "recoveries                     0.000000\n",
       "collection_recovery_fee        0.000000\n",
       "last_pymnt_d                   1.035318\n",
       "last_pymnt_amnt                0.000000\n",
       "next_pymnt_d                  29.553757\n",
       "last_credit_pull_d             0.005841\n",
       "collections_12_mths_ex_med     0.006542\n",
       "policy_code                    0.000000\n",
       "application_type               0.000000\n",
       "acc_now_delinq                 0.000000\n",
       "tot_coll_amt                   7.863953\n",
       "tot_cur_bal                    7.863953\n",
       "total_rev_hi_lim               7.863953\n",
       "default_ind                    0.000000\n",
       "dtype: float64"
      ]
     },
     "execution_count": 17,
     "metadata": {},
     "output_type": "execute_result"
    }
   ],
   "source": [
    "#number of missing value again\n",
    "100*(loan.isnull().sum()/len(loan.index))"
   ]
  },
  {
   "cell_type": "code",
   "execution_count": 18,
   "metadata": {},
   "outputs": [
    {
     "data": {
      "text/plain": [
       "0         5\n",
       "1         4\n",
       "2         5\n",
       "3         4\n",
       "4         3\n",
       "5         4\n",
       "6         3\n",
       "7         4\n",
       "8         5\n",
       "9         4\n",
       "10        4\n",
       "11        4\n",
       "12        4\n",
       "13        4\n",
       "14        4\n",
       "15        4\n",
       "16        4\n",
       "17        4\n",
       "18        4\n",
       "19        4\n",
       "20        4\n",
       "21        4\n",
       "22        4\n",
       "23        4\n",
       "24        4\n",
       "25        4\n",
       "26        5\n",
       "27        4\n",
       "28        4\n",
       "29        4\n",
       "         ..\n",
       "855939    0\n",
       "855940    0\n",
       "855941    1\n",
       "855942    0\n",
       "855943    0\n",
       "855944    0\n",
       "855945    2\n",
       "855946    0\n",
       "855947    0\n",
       "855948    0\n",
       "855949    2\n",
       "855950    0\n",
       "855951    0\n",
       "855952    0\n",
       "855953    0\n",
       "855954    1\n",
       "855955    0\n",
       "855956    1\n",
       "855957    0\n",
       "855958    0\n",
       "855959    1\n",
       "855960    0\n",
       "855961    3\n",
       "855962    0\n",
       "855963    0\n",
       "855964    0\n",
       "855965    0\n",
       "855966    0\n",
       "855967    0\n",
       "855968    0\n",
       "Length: 855969, dtype: int64"
      ]
     },
     "execution_count": 18,
     "metadata": {},
     "output_type": "execute_result"
    }
   ],
   "source": [
    "#missing values in rows\n",
    "loan.isnull().sum(axis=1)"
   ]
  },
  {
   "cell_type": "code",
   "execution_count": 19,
   "metadata": {},
   "outputs": [
    {
     "name": "stdout",
     "output_type": "stream",
     "text": [
      "<class 'pandas.core.frame.DataFrame'>\n",
      "RangeIndex: 855969 entries, 0 to 855968\n",
      "Data columns (total 52 columns):\n",
      "id                            855969 non-null int64\n",
      "member_id                     855969 non-null int64\n",
      "loan_amnt                     855969 non-null float64\n",
      "funded_amnt                   855969 non-null float64\n",
      "funded_amnt_inv               855969 non-null float64\n",
      "term                          855969 non-null object\n",
      "int_rate                      855969 non-null float64\n",
      "installment                   855969 non-null float64\n",
      "grade                         855969 non-null object\n",
      "sub_grade                     855969 non-null object\n",
      "emp_title                     806526 non-null object\n",
      "emp_length                    812908 non-null object\n",
      "home_ownership                855969 non-null object\n",
      "annual_inc                    855969 non-null float64\n",
      "verification_status           855969 non-null object\n",
      "issue_d                       855969 non-null datetime64[ns]\n",
      "pymnt_plan                    855969 non-null object\n",
      "purpose                       855969 non-null object\n",
      "title                         855936 non-null object\n",
      "zip_code                      855969 non-null object\n",
      "addr_state                    855969 non-null object\n",
      "dti                           855969 non-null float64\n",
      "delinq_2yrs                   855969 non-null float64\n",
      "earliest_cr_line              855969 non-null object\n",
      "inq_last_6mths                855969 non-null float64\n",
      "open_acc                      855969 non-null float64\n",
      "pub_rec                       855969 non-null float64\n",
      "revol_bal                     855969 non-null float64\n",
      "revol_util                    855523 non-null float64\n",
      "total_acc                     855969 non-null float64\n",
      "initial_list_status           855969 non-null object\n",
      "out_prncp                     855969 non-null float64\n",
      "out_prncp_inv                 855969 non-null float64\n",
      "total_pymnt                   855969 non-null float64\n",
      "total_pymnt_inv               855969 non-null float64\n",
      "total_rec_prncp               855969 non-null float64\n",
      "total_rec_int                 855969 non-null float64\n",
      "total_rec_late_fee            855969 non-null float64\n",
      "recoveries                    855969 non-null float64\n",
      "collection_recovery_fee       855969 non-null float64\n",
      "last_pymnt_d                  847107 non-null object\n",
      "last_pymnt_amnt               855969 non-null float64\n",
      "next_pymnt_d                  602998 non-null object\n",
      "last_credit_pull_d            855919 non-null object\n",
      "collections_12_mths_ex_med    855913 non-null float64\n",
      "policy_code                   855969 non-null float64\n",
      "application_type              855969 non-null object\n",
      "acc_now_delinq                855969 non-null float64\n",
      "tot_coll_amt                  788656 non-null float64\n",
      "tot_cur_bal                   788656 non-null float64\n",
      "total_rev_hi_lim              788656 non-null float64\n",
      "default_ind                   855969 non-null int64\n",
      "dtypes: datetime64[ns](1), float64(30), int64(3), object(18)\n",
      "memory usage: 339.6+ MB\n"
     ]
    }
   ],
   "source": [
    "#checking columns format\n",
    "loan.info()"
   ]
  },
  {
   "cell_type": "code",
   "execution_count": 20,
   "metadata": {},
   "outputs": [
    {
     "data": {
      "text/plain": [
       "10+ years    282090\n",
       "2 years       75986\n",
       "< 1 year      67597\n",
       "3 years       67392\n",
       "1 year        54855\n",
       "5 years       53812\n",
       "4 years       50643\n",
       "7 years       43204\n",
       "8 years       42421\n",
       "6 years       41446\n",
       "9 years       33462\n",
       "Name: emp_length, dtype: int64"
      ]
     },
     "execution_count": 20,
     "metadata": {},
     "output_type": "execute_result"
    }
   ],
   "source": [
    "loan['emp_length'].value_counts()"
   ]
  },
  {
   "cell_type": "code",
   "execution_count": 21,
   "metadata": {},
   "outputs": [],
   "source": [
    "# also, lets extract the numeric part from the variable employment length\n",
    "\n",
    "# first, let's drop the missing values from the column (otherwise the regex code below throws error)\n",
    "loan = loan[~loan['emp_length'].isnull()]"
   ]
  },
  {
   "cell_type": "code",
   "execution_count": 22,
   "metadata": {},
   "outputs": [],
   "source": [
    "# using regular expression to extract numeric values from the string\n",
    "import re\n",
    "loan['emp_length'] = loan['emp_length'].apply(lambda x: re.findall('\\d+', str(x))[0])\n",
    "\n",
    "# convert to numeric\n",
    "loan['emp_length'] = loan['emp_length'].apply(lambda x: pd.to_numeric(x))"
   ]
  },
  {
   "cell_type": "code",
   "execution_count": 23,
   "metadata": {},
   "outputs": [
    {
     "data": {
      "text/plain": [
       "id                                     int64\n",
       "member_id                              int64\n",
       "loan_amnt                            float64\n",
       "funded_amnt                          float64\n",
       "funded_amnt_inv                      float64\n",
       "term                                  object\n",
       "int_rate                             float64\n",
       "installment                          float64\n",
       "grade                                 object\n",
       "sub_grade                             object\n",
       "emp_title                             object\n",
       "emp_length                             int64\n",
       "home_ownership                        object\n",
       "annual_inc                           float64\n",
       "verification_status                   object\n",
       "issue_d                       datetime64[ns]\n",
       "pymnt_plan                            object\n",
       "purpose                               object\n",
       "title                                 object\n",
       "zip_code                              object\n",
       "addr_state                            object\n",
       "dti                                  float64\n",
       "delinq_2yrs                          float64\n",
       "earliest_cr_line                      object\n",
       "inq_last_6mths                       float64\n",
       "open_acc                             float64\n",
       "pub_rec                              float64\n",
       "revol_bal                            float64\n",
       "revol_util                           float64\n",
       "total_acc                            float64\n",
       "initial_list_status                   object\n",
       "out_prncp                            float64\n",
       "out_prncp_inv                        float64\n",
       "total_pymnt                          float64\n",
       "total_pymnt_inv                      float64\n",
       "total_rec_prncp                      float64\n",
       "total_rec_int                        float64\n",
       "total_rec_late_fee                   float64\n",
       "recoveries                           float64\n",
       "collection_recovery_fee              float64\n",
       "last_pymnt_d                          object\n",
       "last_pymnt_amnt                      float64\n",
       "next_pymnt_d                          object\n",
       "last_credit_pull_d                    object\n",
       "collections_12_mths_ex_med           float64\n",
       "policy_code                          float64\n",
       "application_type                      object\n",
       "acc_now_delinq                       float64\n",
       "tot_coll_amt                         float64\n",
       "tot_cur_bal                          float64\n",
       "total_rev_hi_lim                     float64\n",
       "default_ind                            int64\n",
       "dtype: object"
      ]
     },
     "execution_count": 23,
     "metadata": {},
     "output_type": "execute_result"
    }
   ],
   "source": [
    "#again checking the columns types\n",
    "loan.dtypes"
   ]
  },
  {
   "cell_type": "code",
   "execution_count": 24,
   "metadata": {},
   "outputs": [
    {
     "data": {
      "text/plain": [
       "(812908, 52)"
      ]
     },
     "execution_count": 24,
     "metadata": {},
     "output_type": "execute_result"
    }
   ],
   "source": [
    "loan.shape"
   ]
  },
  {
   "cell_type": "markdown",
   "metadata": {},
   "source": [
    "# Data Analysis"
   ]
  },
  {
   "cell_type": "markdown",
   "metadata": {},
   "source": [
    "Let's starts with data analysis, let's understand the objective of the analysis clearly and identify the variables that we want to consider for analysis.\n",
    "\n",
    "The objective is to identify predictors of default so that at the time of new loan application, we can use those variables for approval/rejection of the loan.\n",
    "\n",
    "Now, there are broadly 3 types of variables -\n",
    "\n",
    "those which are related to the applicant (such as age, occupation, employment details etc.)\n",
    "loan characteristics (amount of loan, interest rate, purpose of loan etc.)\n",
    "Customer behaviour variables (those which are generated after the loan is approved such as delinquent 2 years, revolving balance, next payment date etc.).\n",
    "Now, the customer behaviour variables are not available at the time of loan application, and thus they cannot be used as predictors for credit approval.\n",
    "\n",
    "Thus, going forward, we will use only the other two types of variables."
   ]
  },
  {
   "cell_type": "code",
   "execution_count": 25,
   "metadata": {},
   "outputs": [
    {
     "name": "stdout",
     "output_type": "stream",
     "text": [
      "['delinq_2yrs', 'earliest_cr_line', 'inq_last_6mths', 'open_acc', 'pub_rec', 'revol_bal', 'revol_util', 'total_acc', 'out_prncp', 'out_prncp_inv', 'total_pymnt', 'total_pymnt_inv', 'total_rec_prncp', 'total_rec_int', 'total_rec_late_fee', 'recoveries', 'collection_recovery_fee', 'last_pymnt_d', 'last_pymnt_amnt', 'last_credit_pull_d', 'application_type', 'next_pymnt_d']\n"
     ]
    }
   ],
   "source": [
    "behaviour_var =  [\n",
    "  \"delinq_2yrs\",\n",
    "  \"earliest_cr_line\",\n",
    "  \"inq_last_6mths\",\n",
    "  \"open_acc\",\n",
    "  \"pub_rec\",\n",
    "  \"revol_bal\",\n",
    "  \"revol_util\",\n",
    "  \"total_acc\",\n",
    "  \"out_prncp\",\n",
    "  \"out_prncp_inv\",\n",
    "  \"total_pymnt\",\n",
    "  \"total_pymnt_inv\",\n",
    "  \"total_rec_prncp\",\n",
    "  \"total_rec_int\",\n",
    "  \"total_rec_late_fee\",\n",
    "  \"recoveries\",\n",
    "  \"collection_recovery_fee\",\n",
    "  \"last_pymnt_d\",\n",
    "  \"last_pymnt_amnt\",\n",
    "  \"last_credit_pull_d\",\n",
    "  \"application_type\",\n",
    "\"next_pymnt_d\"]\n",
    "\n",
    "print(behaviour_var)"
   ]
  },
  {
   "cell_type": "code",
   "execution_count": 26,
   "metadata": {},
   "outputs": [],
   "source": [
    "#lets drop the behaviour variables\n",
    "df= loan.drop(behaviour_var, axis=1)"
   ]
  },
  {
   "cell_type": "code",
   "execution_count": 27,
   "metadata": {},
   "outputs": [
    {
     "data": {
      "text/plain": [
       "(812908, 30)"
      ]
     },
     "execution_count": 27,
     "metadata": {},
     "output_type": "execute_result"
    }
   ],
   "source": [
    "df.shape"
   ]
  },
  {
   "cell_type": "code",
   "execution_count": 28,
   "metadata": {},
   "outputs": [],
   "source": [
    "df = df.drop(['title', 'zip_code', 'addr_state', 'member_id', 'id','policy_code','sub_grade'], axis = 1)"
   ]
  },
  {
   "cell_type": "markdown",
   "metadata": {},
   "source": [
    "Cast all continuos variables to numeric so that we can find a correlation between them"
   ]
  },
  {
   "cell_type": "code",
   "execution_count": 29,
   "metadata": {},
   "outputs": [],
   "source": [
    "numeric_columns = ['loan_amnt','funded_amnt','funded_amnt_inv','installment','int_rate','annual_inc','dti']\n",
    "\n",
    "loan[numeric_columns] = loan[numeric_columns].apply(pd.to_numeric)"
   ]
  },
  {
   "cell_type": "markdown",
   "metadata": {},
   "source": [
    "Purpose of loan : Drop records where values are less than 0.75%\n",
    "We will analyse only those categories which contain more than 0.75% of records. Also, we are not aware what comes under 'Other' we will remove this category as well."
   ]
  },
  {
   "cell_type": "code",
   "execution_count": 30,
   "metadata": {},
   "outputs": [
    {
     "data": {
      "text/plain": [
       "debt_consolidation    59.279525\n",
       "credit_card           23.292181\n",
       "home_improvement       5.749482\n",
       "other                  4.712710\n",
       "major_purchase         1.936012\n",
       "small_business         1.172334\n",
       "car                    1.007002\n",
       "medical                0.937498\n",
       "moving                 0.598346\n",
       "vacation               0.520108\n",
       "house                  0.415176\n",
       "wedding                0.276661\n",
       "renewable_energy       0.063845\n",
       "educational            0.039119\n",
       "Name: purpose, dtype: float64"
      ]
     },
     "execution_count": 30,
     "metadata": {},
     "output_type": "execute_result"
    }
   ],
   "source": [
    "(df.purpose.value_counts()*100)/len(loan)"
   ]
  },
  {
   "cell_type": "code",
   "execution_count": 31,
   "metadata": {},
   "outputs": [
    {
     "data": {
      "text/plain": [
       "(812908, 23)"
      ]
     },
     "execution_count": 31,
     "metadata": {},
     "output_type": "execute_result"
    }
   ],
   "source": [
    "df.shape"
   ]
  },
  {
   "cell_type": "code",
   "execution_count": 32,
   "metadata": {},
   "outputs": [
    {
     "data": {
      "text/plain": [
       "0    769037\n",
       "1     43871\n",
       "Name: default_ind, dtype: int64"
      ]
     },
     "execution_count": 32,
     "metadata": {},
     "output_type": "execute_result"
    }
   ],
   "source": [
    "df['default_ind'].value_counts()"
   ]
  },
  {
   "cell_type": "markdown",
   "metadata": {},
   "source": [
    "# We will now derive some new columns based on our business understanding that will be helpful in our analysis."
   ]
  },
  {
   "cell_type": "markdown",
   "metadata": {},
   "source": [
    "1. Loan amount to Annual Income ratio"
   ]
  },
  {
   "cell_type": "code",
   "execution_count": 33,
   "metadata": {},
   "outputs": [],
   "source": [
    "#df['loan_income_ratio']= df['loan_amnt']/df['annual_inc']"
   ]
  },
  {
   "cell_type": "markdown",
   "metadata": {},
   "source": [
    "2. Extract Year & Month from Issue date"
   ]
  },
  {
   "cell_type": "code",
   "execution_count": 34,
   "metadata": {},
   "outputs": [],
   "source": [
    "#df['issue_month'],df['issue_year'] = df['issue_d'].str.split('-', 1).str\n",
    "#df[['issue_d','issue_month','issue_year']].head()"
   ]
  },
  {
   "cell_type": "markdown",
   "metadata": {},
   "source": [
    "3. Change order of months from Jan to Dec, currently it's in alphabetical order(A-Z)"
   ]
  },
  {
   "cell_type": "code",
   "execution_count": 35,
   "metadata": {},
   "outputs": [],
   "source": [
    "#months_order = [\"Jan\", \"Feb\", \"Mar\", \"Apr\",\"May\",\"Jun\",\"Jul\",\"Aug\",\"Sep\",\"Oct\",\"Nov\",\"Dec\"]\n",
    "#df['issue_month'] = pd.Categorical(df['issue_month'],categories=months_order, ordered=True)"
   ]
  },
  {
   "cell_type": "code",
   "execution_count": 36,
   "metadata": {},
   "outputs": [
    {
     "data": {
      "text/plain": [
       "loan_amnt                            float64\n",
       "funded_amnt                          float64\n",
       "funded_amnt_inv                      float64\n",
       "term                                  object\n",
       "int_rate                             float64\n",
       "installment                          float64\n",
       "grade                                 object\n",
       "emp_title                             object\n",
       "emp_length                             int64\n",
       "home_ownership                        object\n",
       "annual_inc                           float64\n",
       "verification_status                   object\n",
       "issue_d                       datetime64[ns]\n",
       "pymnt_plan                            object\n",
       "purpose                               object\n",
       "dti                                  float64\n",
       "initial_list_status                   object\n",
       "collections_12_mths_ex_med           float64\n",
       "acc_now_delinq                       float64\n",
       "tot_coll_amt                         float64\n",
       "tot_cur_bal                          float64\n",
       "total_rev_hi_lim                     float64\n",
       "default_ind                            int64\n",
       "dtype: object"
      ]
     },
     "execution_count": 36,
     "metadata": {},
     "output_type": "execute_result"
    }
   ],
   "source": [
    "df.dtypes"
   ]
  },
  {
   "cell_type": "code",
   "execution_count": 37,
   "metadata": {},
   "outputs": [
    {
     "data": {
      "text/plain": [
       "0    769037\n",
       "1     43871\n",
       "Name: default_ind, dtype: int64"
      ]
     },
     "execution_count": 37,
     "metadata": {},
     "output_type": "execute_result"
    }
   ],
   "source": [
    "# converting loan_status to integer type\n",
    "df['default_ind'] = df['default_ind'].apply(lambda x: pd.to_numeric(x))\n",
    "\n",
    "# summarising the values\n",
    "df['default_ind'].value_counts()"
   ]
  },
  {
   "cell_type": "code",
   "execution_count": 38,
   "metadata": {},
   "outputs": [],
   "source": [
    "df['term'] = df['term'].apply(lambda x: x.split()[0])"
   ]
  },
  {
   "cell_type": "code",
   "execution_count": 39,
   "metadata": {},
   "outputs": [
    {
     "data": {
      "text/plain": [
       "36    565472\n",
       "60    247436\n",
       "Name: term, dtype: int64"
      ]
     },
     "execution_count": 39,
     "metadata": {},
     "output_type": "execute_result"
    }
   ],
   "source": [
    "df.term.value_counts()"
   ]
  },
  {
   "cell_type": "code",
   "execution_count": 40,
   "metadata": {},
   "outputs": [
    {
     "data": {
      "text/plain": [
       "10    282090\n",
       "1     122452\n",
       "2      75986\n",
       "3      67392\n",
       "5      53812\n",
       "4      50643\n",
       "7      43204\n",
       "8      42421\n",
       "6      41446\n",
       "9      33462\n",
       "Name: emp_length, dtype: int64"
      ]
     },
     "execution_count": 40,
     "metadata": {},
     "output_type": "execute_result"
    }
   ],
   "source": [
    "df.emp_length.value_counts()"
   ]
  },
  {
   "cell_type": "code",
   "execution_count": 41,
   "metadata": {},
   "outputs": [
    {
     "data": {
      "text/plain": [
       "A    17.085082\n",
       "B    28.992457\n",
       "C    27.640889\n",
       "D    15.428191\n",
       "E     7.772097\n",
       "F     2.505081\n",
       "G     0.576203\n",
       "Name: grade, dtype: float64"
      ]
     },
     "execution_count": 41,
     "metadata": {},
     "output_type": "execute_result"
    }
   ],
   "source": [
    "(df['grade'].value_counts(normalize=True)*100).sort_index()"
   ]
  },
  {
   "cell_type": "code",
   "execution_count": 42,
   "metadata": {},
   "outputs": [],
   "source": [
    "df= df.reset_index(drop=True)"
   ]
  },
  {
   "cell_type": "code",
   "execution_count": 43,
   "metadata": {},
   "outputs": [
    {
     "name": "stdout",
     "output_type": "stream",
     "text": [
      "<class 'pandas.core.frame.DataFrame'>\n",
      "RangeIndex: 812908 entries, 0 to 812907\n",
      "Data columns (total 23 columns):\n",
      "loan_amnt                     812908 non-null float64\n",
      "funded_amnt                   812908 non-null float64\n",
      "funded_amnt_inv               812908 non-null float64\n",
      "term                          812908 non-null object\n",
      "int_rate                      812908 non-null float64\n",
      "installment                   812908 non-null float64\n",
      "grade                         812908 non-null object\n",
      "emp_title                     806146 non-null object\n",
      "emp_length                    812908 non-null int64\n",
      "home_ownership                812908 non-null object\n",
      "annual_inc                    812908 non-null float64\n",
      "verification_status           812908 non-null object\n",
      "issue_d                       812908 non-null datetime64[ns]\n",
      "pymnt_plan                    812908 non-null object\n",
      "purpose                       812908 non-null object\n",
      "dti                           812908 non-null float64\n",
      "initial_list_status           812908 non-null object\n",
      "collections_12_mths_ex_med    812852 non-null float64\n",
      "acc_now_delinq                812908 non-null float64\n",
      "tot_coll_amt                  747616 non-null float64\n",
      "tot_cur_bal                   747616 non-null float64\n",
      "total_rev_hi_lim              747616 non-null float64\n",
      "default_ind                   812908 non-null int64\n",
      "dtypes: datetime64[ns](1), float64(12), int64(2), object(8)\n",
      "memory usage: 142.6+ MB\n"
     ]
    }
   ],
   "source": [
    "df.info()"
   ]
  },
  {
   "cell_type": "code",
   "execution_count": 44,
   "metadata": {},
   "outputs": [
    {
     "name": "stdout",
     "output_type": "stream",
     "text": [
      "<class 'pandas.core.frame.DataFrame'>\n",
      "Int64Index: 812908 entries, 0 to 855968\n",
      "Data columns (total 52 columns):\n",
      "id                            812908 non-null int64\n",
      "member_id                     812908 non-null int64\n",
      "loan_amnt                     812908 non-null float64\n",
      "funded_amnt                   812908 non-null float64\n",
      "funded_amnt_inv               812908 non-null float64\n",
      "term                          812908 non-null object\n",
      "int_rate                      812908 non-null float64\n",
      "installment                   812908 non-null float64\n",
      "grade                         812908 non-null object\n",
      "sub_grade                     812908 non-null object\n",
      "emp_title                     806146 non-null object\n",
      "emp_length                    812908 non-null int64\n",
      "home_ownership                812908 non-null object\n",
      "annual_inc                    812908 non-null float64\n",
      "verification_status           812908 non-null object\n",
      "issue_d                       812908 non-null datetime64[ns]\n",
      "pymnt_plan                    812908 non-null object\n",
      "purpose                       812908 non-null object\n",
      "title                         812879 non-null object\n",
      "zip_code                      812908 non-null object\n",
      "addr_state                    812908 non-null object\n",
      "dti                           812908 non-null float64\n",
      "delinq_2yrs                   812908 non-null float64\n",
      "earliest_cr_line              812908 non-null object\n",
      "inq_last_6mths                812908 non-null float64\n",
      "open_acc                      812908 non-null float64\n",
      "pub_rec                       812908 non-null float64\n",
      "revol_bal                     812908 non-null float64\n",
      "revol_util                    812477 non-null float64\n",
      "total_acc                     812908 non-null float64\n",
      "initial_list_status           812908 non-null object\n",
      "out_prncp                     812908 non-null float64\n",
      "out_prncp_inv                 812908 non-null float64\n",
      "total_pymnt                   812908 non-null float64\n",
      "total_pymnt_inv               812908 non-null float64\n",
      "total_rec_prncp               812908 non-null float64\n",
      "total_rec_int                 812908 non-null float64\n",
      "total_rec_late_fee            812908 non-null float64\n",
      "recoveries                    812908 non-null float64\n",
      "collection_recovery_fee       812908 non-null float64\n",
      "last_pymnt_d                  804624 non-null object\n",
      "last_pymnt_amnt               812908 non-null float64\n",
      "next_pymnt_d                  569834 non-null object\n",
      "last_credit_pull_d            812861 non-null object\n",
      "collections_12_mths_ex_med    812852 non-null float64\n",
      "policy_code                   812908 non-null float64\n",
      "application_type              812908 non-null object\n",
      "acc_now_delinq                812908 non-null float64\n",
      "tot_coll_amt                  747616 non-null float64\n",
      "tot_cur_bal                   747616 non-null float64\n",
      "total_rev_hi_lim              747616 non-null float64\n",
      "default_ind                   812908 non-null int64\n",
      "dtypes: datetime64[ns](1), float64(30), int64(4), object(17)\n",
      "memory usage: 328.7+ MB\n"
     ]
    }
   ],
   "source": [
    "loan.info()"
   ]
  },
  {
   "cell_type": "markdown",
   "metadata": {},
   "source": [
    "# Univariate and Segmented Univariate Analysis"
   ]
  },
  {
   "cell_type": "code",
   "execution_count": 45,
   "metadata": {},
   "outputs": [
    {
     "data": {
      "text/plain": [
       "<matplotlib.axes._subplots.AxesSubplot at 0x29216ac4eb8>"
      ]
     },
     "execution_count": 45,
     "metadata": {},
     "output_type": "execute_result"
    },
    {
     "data": {
      "image/png": "[encoded data removed]",
      "text/plain": [
       "<Figure size 432x288 with 1 Axes>"
      ]
     },
     "metadata": {
      "needs_background": "light"
     },
     "output_type": "display_data"
    }
   ],
   "source": [
    "sns.countplot('home_ownership', data = df,hue = 'default_ind')"
   ]
  },
  {
   "cell_type": "code",
   "execution_count": 46,
   "metadata": {},
   "outputs": [
    {
     "data": {
      "text/plain": [
       "Text(0, 0.5, 'Count')"
      ]
     },
     "execution_count": 46,
     "metadata": {},
     "output_type": "execute_result"
    },
    {
     "data": {
      "image/png": "[encoded data removed]",
      "text/plain": [
       "<Figure size 576x360 with 1 Axes>"
      ]
     },
     "metadata": {
      "needs_background": "light"
     },
     "output_type": "display_data"
    }
   ],
   "source": [
    "plt.figure(figsize=(8, 5))\n",
    "sns.barplot(y=df.term.value_counts(), x=df.term.value_counts().index, palette='spring')\n",
    "plt.xticks(rotation=0)\n",
    "plt.title(\"Loan's Term Distribution\")\n",
    "plt.ylabel(\"Count\")"
   ]
  },
  {
   "cell_type": "code",
   "execution_count": 47,
   "metadata": {},
   "outputs": [
    {
     "name": "stderr",
     "output_type": "stream",
     "text": [
      "C:\\ProgramData\\Anaconda3\\lib\\site-packages\\scipy\\stats\\stats.py:1713: FutureWarning: Using a non-tuple sequence for multidimensional indexing is deprecated; use `arr[tuple(seq)]` instead of `arr[seq]`. In the future this will be interpreted as an array index, `arr[np.array(seq)]`, which will result either in an error or a different result.\n",
      "  return np.add.reduce(sorted[indexer] * weights, axis=axis) / sumval\n"
     ]
    },
    {
     "data": {
      "text/plain": [
       "Text(0.5, 1.0, 'Funded Amount Distribution')"
      ]
     },
     "execution_count": 47,
     "metadata": {},
     "output_type": "execute_result"
    },
    {
     "data": {
      "image/png": "[encoded data removed]",
      "text/plain": [
       "<Figure size 1152x360 with 2 Axes>"
      ]
     },
     "metadata": {
      "needs_background": "light"
     },
     "output_type": "display_data"
    }
   ],
   "source": [
    "fig, ax = plt.subplots(1, 2, figsize=(16,5))\n",
    "sns.distplot(df['loan_amnt'], ax=ax[0])\n",
    "ax[0].set_title(\"Loan Amount Distribution\")\n",
    "sns.distplot(df['funded_amnt'], ax=ax[1])\n",
    "ax[1].set_title(\"Funded Amount Distribution\")"
   ]
  },
  {
   "cell_type": "code",
   "execution_count": 48,
   "metadata": {},
   "outputs": [
    {
     "data": {
      "text/plain": [
       "(array([ 0,  1,  2,  3,  4,  5,  6,  7,  8,  9, 10, 11, 12, 13]),\n",
       " <a list of 14 Text xticklabel objects>)"
      ]
     },
     "execution_count": 48,
     "metadata": {},
     "output_type": "execute_result"
    },
    {
     "data": {
      "image/png": "[encoded data removed]",
      "text/plain": [
       "<Figure size 864x576 with 2 Axes>"
      ]
     },
     "metadata": {
      "needs_background": "light"
     },
     "output_type": "display_data"
    }
   ],
   "source": [
    "#Let's Checkout the Grades\n",
    "fig, ax = plt.subplots(2, 1, figsize=(12, 8))\n",
    "plt.subplots_adjust(wspace=1.0, hspace=0.50)\n",
    "df.grade.value_counts().plot(kind=\"bar\", ax=ax[0])\n",
    "ax[0].set_title(\"Grade Count\")\n",
    "df.purpose.value_counts().plot(kind=\"bar\", ax=ax[1])\n",
    "ax[1].set_title(\"Loan Purposes\")\n",
    "plt.xticks(rotation=60)"
   ]
  },
  {
   "cell_type": "code",
   "execution_count": 49,
   "metadata": {},
   "outputs": [
    {
     "name": "stdout",
     "output_type": "stream",
     "text": [
      "debt_consolidation    481888\n",
      "credit_card           189344\n",
      "home_improvement       46738\n",
      "other                  38310\n",
      "major_purchase         15738\n",
      "small_business          9530\n",
      "car                     8186\n",
      "medical                 7621\n",
      "moving                  4864\n",
      "vacation                4228\n",
      "Name: purpose, dtype: int64\n"
     ]
    }
   ],
   "source": [
    "#most of the loans are for debt_consolidation\n",
    "print(df.purpose.value_counts()[:10])"
   ]
  },
  {
   "cell_type": "markdown",
   "metadata": {},
   "source": [
    "Continuous Variables\n",
    "In case of continuous variables, we need to understand the central tendency and spread of the variable.These are measured using various statistical metrics visualization methods such as Boxplot,Histogram/Distribution Plot, Violin Plot etc.\n",
    "\n",
    "Categorical Variables\n",
    "For categorical variables, we’ll use frequency table to understand distribution of each category. It can be be measured using two metrics, Count and Count% against each category. Countplot or Bar chart can be used as visualization."
   ]
  },
  {
   "cell_type": "markdown",
   "metadata": {},
   "source": [
    "# Univariate function will plot the graphs based on the parameter values."
   ]
  },
  {
   "cell_type": "code",
   "execution_count": 50,
   "metadata": {},
   "outputs": [],
   "source": [
    "def univariate(df,col,vartype,hue =None):\n",
    "    \n",
    "    '''\n",
    "    Univariate function will plot the graphs based on the parameters.\n",
    "    df      : dataframe name\n",
    "    col     : Column name\n",
    "    vartype : variable type : continuos or categorical\n",
    "                Continuos(0)   : Distribution, Violin & Boxplot will be plotted.\n",
    "                Categorical(1) : Countplot will be plotted.\n",
    "    hue     : It's only applicable for categorical analysis.\n",
    "    \n",
    "    '''\n",
    "    sns.set(style=\"darkgrid\")\n",
    "    \n",
    "    if vartype == 0:\n",
    "        fig, ax=plt.subplots(nrows =1,ncols=3,figsize=(20,8))\n",
    "        ax[0].set_title(\"Distribution Plot\")\n",
    "        sns.distplot(df[col],ax=ax[0])\n",
    "        ax[1].set_title(\"Violin Plot\")\n",
    "        sns.violinplot(data =df, x=col,ax=ax[1], inner=\"quartile\")\n",
    "        ax[2].set_title(\"Box Plot\")\n",
    "        sns.boxplot(data =df, x=col,ax=ax[2],orient='v')\n",
    "    \n",
    "    if vartype == 1:\n",
    "        temp = pd.Series(data = hue)\n",
    "        fig, ax = plt.subplots()\n",
    "        width = len(df[col].unique()) + 6 + 4*len(temp.unique())\n",
    "        fig.set_size_inches(width , 7)\n",
    "        ax = sns.countplot(data = df, x= col, order=df[col].value_counts().index,hue = hue) \n",
    "        if len(temp.unique()) > 0:\n",
    "            for p in ax.patches:\n",
    "                ax.annotate('{:1.1f}%'.format((p.get_height()*100)/float(len(loan))), (p.get_x()+0.05, p.get_height()+20))  \n",
    "        else:\n",
    "            for p in ax.patches:\n",
    "                ax.annotate(p.get_height(), (p.get_x()+0.32, p.get_height()+20)) \n",
    "        del temp\n",
    "    else:\n",
    "        exit\n",
    "        \n",
    "    plt.show()"
   ]
  },
  {
   "cell_type": "markdown",
   "metadata": {},
   "source": [
    "# Continuous Variables\n",
    "1. Loan Amount"
   ]
  },
  {
   "cell_type": "code",
   "execution_count": 51,
   "metadata": {},
   "outputs": [
    {
     "data": {
      "image/png": "[encoded data removed]",
      "text/plain": [
       "<Figure size 1440x576 with 3 Axes>"
      ]
     },
     "metadata": {},
     "output_type": "display_data"
    }
   ],
   "source": [
    "univariate(df,col='loan_amnt',vartype=0)\n",
    "\n",
    "#Most of the loan amounts are distributed between 8000 to 20000 USD."
   ]
  },
  {
   "cell_type": "markdown",
   "metadata": {},
   "source": [
    "2. Interest Rate"
   ]
  },
  {
   "cell_type": "code",
   "execution_count": 52,
   "metadata": {},
   "outputs": [
    {
     "data": {
      "image/png": "[encoded data removed]",
      "text/plain": [
       "<Figure size 1440x576 with 3 Axes>"
      ]
     },
     "metadata": {},
     "output_type": "display_data"
    }
   ],
   "source": [
    "#Insights: Most of the loans interest rates are distributed between 10% to 16%.\n",
    "univariate(df,col='int_rate',vartype=0)"
   ]
  },
  {
   "cell_type": "markdown",
   "metadata": {},
   "source": [
    "3. Annual Income"
   ]
  },
  {
   "cell_type": "code",
   "execution_count": 53,
   "metadata": {},
   "outputs": [
    {
     "data": {
      "text/plain": [
       "count    8.129080e+05\n",
       "mean     7.639065e+04\n",
       "std      6.518319e+04\n",
       "min      3.800000e+03\n",
       "25%      4.700000e+04\n",
       "50%      6.500000e+04\n",
       "75%      9.000000e+04\n",
       "max      9.500000e+06\n",
       "Name: annual_inc, dtype: float64"
      ]
     },
     "execution_count": 53,
     "metadata": {},
     "output_type": "execute_result"
    }
   ],
   "source": [
    "loan[\"annual_inc\"].describe()"
   ]
  },
  {
   "cell_type": "markdown",
   "metadata": {},
   "source": [
    "Max value is 9500000 which is approx 150 times more than mean value, so we will remove the outliers from Annual Income.\n",
    "Remove Outliers (values from 99 to 100%)"
   ]
  },
  {
   "cell_type": "code",
   "execution_count": 54,
   "metadata": {},
   "outputs": [
    {
     "data": {
      "text/plain": [
       "count    808839.000000\n",
       "mean      74157.416404\n",
       "std       40199.464942\n",
       "min        3800.000000\n",
       "25%       47000.000000\n",
       "50%       65000.000000\n",
       "75%       90000.000000\n",
       "max      311416.000000\n",
       "Name: annual_inc, dtype: float64"
      ]
     },
     "execution_count": 54,
     "metadata": {},
     "output_type": "execute_result"
    }
   ],
   "source": [
    "q = loan[\"annual_inc\"].quantile(0.995)\n",
    "loan = loan[loan[\"annual_inc\"] < q]\n",
    "loan[\"annual_inc\"].describe()"
   ]
  },
  {
   "cell_type": "code",
   "execution_count": 55,
   "metadata": {},
   "outputs": [
    {
     "data": {
      "image/png": "[encoded data removed]",
      "text/plain": [
       "<Figure size 1440x576 with 3 Axes>"
      ]
     },
     "metadata": {},
     "output_type": "display_data"
    }
   ],
   "source": [
    "univariate(df=loan,col='annual_inc',vartype=0)"
   ]
  },
  {
   "cell_type": "markdown",
   "metadata": {},
   "source": [
    "Insights: Most of the applicants earns beteen 40000 to 90000 USD annuall"
   ]
  },
  {
   "cell_type": "markdown",
   "metadata": {},
   "source": [
    "# Categorical Variables"
   ]
  },
  {
   "cell_type": "markdown",
   "metadata": {},
   "source": [
    "4. Loan Status"
   ]
  },
  {
   "cell_type": "code",
   "execution_count": 56,
   "metadata": {},
   "outputs": [
    {
     "data": {
      "image/png": "[encoded data removed]",
      "text/plain": [
       "<Figure size 576x504 with 1 Axes>"
      ]
     },
     "metadata": {},
     "output_type": "display_data"
    }
   ],
   "source": [
    "univariate(df,col='default_ind',vartype=1)"
   ]
  },
  {
   "cell_type": "markdown",
   "metadata": {},
   "source": [
    "5. Purpose Of Loan"
   ]
  },
  {
   "cell_type": "code",
   "execution_count": 57,
   "metadata": {},
   "outputs": [
    {
     "data": {
      "image/png": "[encoded data removed]",
      "text/plain": [
       "<Figure size 1728x504 with 1 Axes>"
      ]
     },
     "metadata": {},
     "output_type": "display_data"
    }
   ],
   "source": [
    "univariate(df,col='purpose',vartype=1,hue='default_ind')"
   ]
  },
  {
   "cell_type": "markdown",
   "metadata": {},
   "source": [
    "Insights: Approx 60% of the applicants applied loan for paying their other loans(Debt Consolidation)."
   ]
  },
  {
   "cell_type": "markdown",
   "metadata": {},
   "source": [
    "6. Home Ownership wise Loan"
   ]
  },
  {
   "cell_type": "code",
   "execution_count": 58,
   "metadata": {},
   "outputs": [
    {
     "data": {
      "text/plain": [
       "array(['RENT', 'OWN', 'MORTGAGE', 'OTHER', 'NONE', 'ANY'], dtype=object)"
      ]
     },
     "execution_count": 58,
     "metadata": {},
     "output_type": "execute_result"
    }
   ],
   "source": [
    "df.home_ownership.unique()"
   ]
  },
  {
   "cell_type": "code",
   "execution_count": 59,
   "metadata": {},
   "outputs": [],
   "source": [
    "# Remove rows where home_ownership'=='OTHER', 'NONE', 'ANY'\n",
    "#rem = ['OTHER', 'NONE', 'ANY']\n",
    "#df.drop(loan[loan['home_ownership'].isin(rem)].index,inplace=True)\n",
    "#df.home_ownership.unique()"
   ]
  },
  {
   "cell_type": "code",
   "execution_count": 60,
   "metadata": {},
   "outputs": [
    {
     "data": {
      "text/plain": [
       "MORTGAGE    409125\n",
       "RENT        327698\n",
       "OWN          75897\n",
       "OTHER          141\n",
       "NONE            44\n",
       "ANY              3\n",
       "Name: home_ownership, dtype: int64"
      ]
     },
     "execution_count": 60,
     "metadata": {},
     "output_type": "execute_result"
    }
   ],
   "source": [
    "df['home_ownership'].value_counts()"
   ]
  },
  {
   "cell_type": "code",
   "execution_count": 61,
   "metadata": {},
   "outputs": [
    {
     "data": {
      "text/plain": [
       "<matplotlib.axes._subplots.AxesSubplot at 0x29201d53a90>"
      ]
     },
     "execution_count": 61,
     "metadata": {},
     "output_type": "execute_result"
    },
    {
     "data": {
      "image/png": "[encoded data removed]",
      "text/plain": [
       "<Figure size 432x288 with 1 Axes>"
      ]
     },
     "metadata": {},
     "output_type": "display_data"
    }
   ],
   "source": [
    "sns.countplot('home_ownership', data = df,hue = 'default_ind')"
   ]
  },
  {
   "cell_type": "markdown",
   "metadata": {},
   "source": [
    "Insights: 40% of applicants are living in rented home whereas 52% applicants were mortagaged their home."
   ]
  },
  {
   "cell_type": "markdown",
   "metadata": {},
   "source": [
    "7. loan Term"
   ]
  },
  {
   "cell_type": "code",
   "execution_count": 62,
   "metadata": {},
   "outputs": [
    {
     "data": {
      "image/png": "[encoded data removed]",
      "text/plain": [
       "<Figure size 864x504 with 1 Axes>"
      ]
     },
     "metadata": {},
     "output_type": "display_data"
    }
   ],
   "source": [
    "univariate(df,col='term',vartype=1,hue='default_ind')"
   ]
  },
  {
   "cell_type": "markdown",
   "metadata": {},
   "source": [
    "Insights: 70% of applicants applied loan for 36 months term period."
   ]
  },
  {
   "cell_type": "markdown",
   "metadata": {},
   "source": [
    "# Bivariate/Multivariate Analysis"
   ]
  },
  {
   "cell_type": "markdown",
   "metadata": {},
   "source": [
    "1. Purpose of Loan vs Loan Amount for each Loan Status"
   ]
  },
  {
   "cell_type": "code",
   "execution_count": 63,
   "metadata": {},
   "outputs": [
    {
     "data": {
      "image/png": "[encoded data removed]",
      "text/plain": [
       "<Figure size 1152x864 with 1 Axes>"
      ]
     },
     "metadata": {},
     "output_type": "display_data"
    }
   ],
   "source": [
    "plt.figure(figsize=(16,12))\n",
    "sns.boxplot(data =df, x='purpose', y='loan_amnt', hue ='default_ind')\n",
    "plt.title('Purpose of Loan vs Loan Amount')\n",
    "plt.show()"
   ]
  },
  {
   "cell_type": "markdown",
   "metadata": {},
   "source": [
    "2. Correlation Matrix : All Continuos(Numeric) Variables"
   ]
  },
  {
   "cell_type": "code",
   "execution_count": 64,
   "metadata": {},
   "outputs": [
    {
     "data": {
      "text/html": [
       "<div>\n",
       "<style scoped>\n",
       "    .dataframe tbody tr th:only-of-type {\n",
       "        vertical-align: middle;\n",
       "    }\n",
       "\n",
       "    .dataframe tbody tr th {\n",
       "        vertical-align: top;\n",
       "    }\n",
       "\n",
       "    .dataframe thead th {\n",
       "        text-align: right;\n",
       "    }\n",
       "</style>\n",
       "<table border=\"1\" class=\"dataframe\">\n",
       "  <thead>\n",
       "    <tr style=\"text-align: right;\">\n",
       "      <th></th>\n",
       "      <th>loan_amnt</th>\n",
       "      <th>funded_amnt</th>\n",
       "      <th>funded_amnt_inv</th>\n",
       "      <th>int_rate</th>\n",
       "      <th>installment</th>\n",
       "      <th>emp_length</th>\n",
       "      <th>annual_inc</th>\n",
       "      <th>dti</th>\n",
       "      <th>collections_12_mths_ex_med</th>\n",
       "      <th>acc_now_delinq</th>\n",
       "      <th>tot_coll_amt</th>\n",
       "      <th>tot_cur_bal</th>\n",
       "      <th>total_rev_hi_lim</th>\n",
       "      <th>default_ind</th>\n",
       "    </tr>\n",
       "  </thead>\n",
       "  <tbody>\n",
       "    <tr>\n",
       "      <th>loan_amnt</th>\n",
       "      <td>1.000000</td>\n",
       "      <td>0.999241</td>\n",
       "      <td>0.997503</td>\n",
       "      <td>0.147545</td>\n",
       "      <td>0.944051</td>\n",
       "      <td>0.106210</td>\n",
       "      <td>0.327552</td>\n",
       "      <td>0.046441</td>\n",
       "      <td>-0.017150</td>\n",
       "      <td>0.003139</td>\n",
       "      <td>-0.004067</td>\n",
       "      <td>0.323490</td>\n",
       "      <td>0.309215</td>\n",
       "      <td>-0.003362</td>\n",
       "    </tr>\n",
       "    <tr>\n",
       "      <th>funded_amnt</th>\n",
       "      <td>0.999241</td>\n",
       "      <td>1.000000</td>\n",
       "      <td>0.998417</td>\n",
       "      <td>0.147694</td>\n",
       "      <td>0.945112</td>\n",
       "      <td>0.106467</td>\n",
       "      <td>0.327346</td>\n",
       "      <td>0.047283</td>\n",
       "      <td>-0.016990</td>\n",
       "      <td>0.003245</td>\n",
       "      <td>-0.004067</td>\n",
       "      <td>0.323489</td>\n",
       "      <td>0.309214</td>\n",
       "      <td>-0.004278</td>\n",
       "    </tr>\n",
       "    <tr>\n",
       "      <th>funded_amnt_inv</th>\n",
       "      <td>0.997503</td>\n",
       "      <td>0.998417</td>\n",
       "      <td>1.000000</td>\n",
       "      <td>0.147950</td>\n",
       "      <td>0.943273</td>\n",
       "      <td>0.107599</td>\n",
       "      <td>0.326719</td>\n",
       "      <td>0.049235</td>\n",
       "      <td>-0.016644</td>\n",
       "      <td>0.003436</td>\n",
       "      <td>-0.004066</td>\n",
       "      <td>0.323513</td>\n",
       "      <td>0.309250</td>\n",
       "      <td>-0.006794</td>\n",
       "    </tr>\n",
       "    <tr>\n",
       "      <th>int_rate</th>\n",
       "      <td>0.147545</td>\n",
       "      <td>0.147694</td>\n",
       "      <td>0.147950</td>\n",
       "      <td>1.000000</td>\n",
       "      <td>0.133895</td>\n",
       "      <td>0.010471</td>\n",
       "      <td>-0.073608</td>\n",
       "      <td>0.161965</td>\n",
       "      <td>0.012875</td>\n",
       "      <td>0.026617</td>\n",
       "      <td>0.001228</td>\n",
       "      <td>-0.091952</td>\n",
       "      <td>-0.162165</td>\n",
       "      <td>0.156634</td>\n",
       "    </tr>\n",
       "    <tr>\n",
       "      <th>installment</th>\n",
       "      <td>0.944051</td>\n",
       "      <td>0.945112</td>\n",
       "      <td>0.943273</td>\n",
       "      <td>0.133895</td>\n",
       "      <td>1.000000</td>\n",
       "      <td>0.090491</td>\n",
       "      <td>0.321821</td>\n",
       "      <td>0.031068</td>\n",
       "      <td>-0.014607</td>\n",
       "      <td>0.005903</td>\n",
       "      <td>-0.003354</td>\n",
       "      <td>0.292971</td>\n",
       "      <td>0.284237</td>\n",
       "      <td>0.006232</td>\n",
       "    </tr>\n",
       "    <tr>\n",
       "      <th>emp_length</th>\n",
       "      <td>0.106210</td>\n",
       "      <td>0.106467</td>\n",
       "      <td>0.107599</td>\n",
       "      <td>0.010471</td>\n",
       "      <td>0.090491</td>\n",
       "      <td>1.000000</td>\n",
       "      <td>0.063858</td>\n",
       "      <td>0.043494</td>\n",
       "      <td>-0.004017</td>\n",
       "      <td>0.009071</td>\n",
       "      <td>-0.000668</td>\n",
       "      <td>0.097809</td>\n",
       "      <td>0.076974</td>\n",
       "      <td>-0.014194</td>\n",
       "    </tr>\n",
       "    <tr>\n",
       "      <th>annual_inc</th>\n",
       "      <td>0.327552</td>\n",
       "      <td>0.327346</td>\n",
       "      <td>0.326719</td>\n",
       "      <td>-0.073608</td>\n",
       "      <td>0.321821</td>\n",
       "      <td>0.063858</td>\n",
       "      <td>1.000000</td>\n",
       "      <td>-0.178723</td>\n",
       "      <td>-0.003687</td>\n",
       "      <td>0.014876</td>\n",
       "      <td>0.001132</td>\n",
       "      <td>0.417203</td>\n",
       "      <td>0.269042</td>\n",
       "      <td>-0.036733</td>\n",
       "    </tr>\n",
       "    <tr>\n",
       "      <th>dti</th>\n",
       "      <td>0.046441</td>\n",
       "      <td>0.047283</td>\n",
       "      <td>0.049235</td>\n",
       "      <td>0.161965</td>\n",
       "      <td>0.031068</td>\n",
       "      <td>0.043494</td>\n",
       "      <td>-0.178723</td>\n",
       "      <td>1.000000</td>\n",
       "      <td>-0.000105</td>\n",
       "      <td>0.007073</td>\n",
       "      <td>-0.004283</td>\n",
       "      <td>-0.010626</td>\n",
       "      <td>0.072163</td>\n",
       "      <td>0.010403</td>\n",
       "    </tr>\n",
       "    <tr>\n",
       "      <th>collections_12_mths_ex_med</th>\n",
       "      <td>-0.017150</td>\n",
       "      <td>-0.016990</td>\n",
       "      <td>-0.016644</td>\n",
       "      <td>0.012875</td>\n",
       "      <td>-0.014607</td>\n",
       "      <td>-0.004017</td>\n",
       "      <td>-0.003687</td>\n",
       "      <td>-0.000105</td>\n",
       "      <td>1.000000</td>\n",
       "      <td>0.040651</td>\n",
       "      <td>0.009268</td>\n",
       "      <td>-0.011002</td>\n",
       "      <td>-0.016942</td>\n",
       "      <td>-0.011019</td>\n",
       "    </tr>\n",
       "    <tr>\n",
       "      <th>acc_now_delinq</th>\n",
       "      <td>0.003139</td>\n",
       "      <td>0.003245</td>\n",
       "      <td>0.003436</td>\n",
       "      <td>0.026617</td>\n",
       "      <td>0.005903</td>\n",
       "      <td>0.009071</td>\n",
       "      <td>0.014876</td>\n",
       "      <td>0.007073</td>\n",
       "      <td>0.040651</td>\n",
       "      <td>1.000000</td>\n",
       "      <td>0.000319</td>\n",
       "      <td>0.022997</td>\n",
       "      <td>0.007977</td>\n",
       "      <td>-0.003498</td>\n",
       "    </tr>\n",
       "    <tr>\n",
       "      <th>tot_coll_amt</th>\n",
       "      <td>-0.004067</td>\n",
       "      <td>-0.004067</td>\n",
       "      <td>-0.004066</td>\n",
       "      <td>0.001228</td>\n",
       "      <td>-0.003354</td>\n",
       "      <td>-0.000668</td>\n",
       "      <td>0.001132</td>\n",
       "      <td>-0.004283</td>\n",
       "      <td>0.009268</td>\n",
       "      <td>0.000319</td>\n",
       "      <td>1.000000</td>\n",
       "      <td>-0.000327</td>\n",
       "      <td>-0.004780</td>\n",
       "      <td>-0.001841</td>\n",
       "    </tr>\n",
       "    <tr>\n",
       "      <th>tot_cur_bal</th>\n",
       "      <td>0.323490</td>\n",
       "      <td>0.323489</td>\n",
       "      <td>0.323513</td>\n",
       "      <td>-0.091952</td>\n",
       "      <td>0.292971</td>\n",
       "      <td>0.097809</td>\n",
       "      <td>0.417203</td>\n",
       "      <td>-0.010626</td>\n",
       "      <td>-0.011002</td>\n",
       "      <td>0.022997</td>\n",
       "      <td>-0.000327</td>\n",
       "      <td>1.000000</td>\n",
       "      <td>0.385290</td>\n",
       "      <td>-0.036395</td>\n",
       "    </tr>\n",
       "    <tr>\n",
       "      <th>total_rev_hi_lim</th>\n",
       "      <td>0.309215</td>\n",
       "      <td>0.309214</td>\n",
       "      <td>0.309250</td>\n",
       "      <td>-0.162165</td>\n",
       "      <td>0.284237</td>\n",
       "      <td>0.076974</td>\n",
       "      <td>0.269042</td>\n",
       "      <td>0.072163</td>\n",
       "      <td>-0.016942</td>\n",
       "      <td>0.007977</td>\n",
       "      <td>-0.004780</td>\n",
       "      <td>0.385290</td>\n",
       "      <td>1.000000</td>\n",
       "      <td>-0.033086</td>\n",
       "    </tr>\n",
       "    <tr>\n",
       "      <th>default_ind</th>\n",
       "      <td>-0.003362</td>\n",
       "      <td>-0.004278</td>\n",
       "      <td>-0.006794</td>\n",
       "      <td>0.156634</td>\n",
       "      <td>0.006232</td>\n",
       "      <td>-0.014194</td>\n",
       "      <td>-0.036733</td>\n",
       "      <td>0.010403</td>\n",
       "      <td>-0.011019</td>\n",
       "      <td>-0.003498</td>\n",
       "      <td>-0.001841</td>\n",
       "      <td>-0.036395</td>\n",
       "      <td>-0.033086</td>\n",
       "      <td>1.000000</td>\n",
       "    </tr>\n",
       "  </tbody>\n",
       "</table>\n",
       "</div>"
      ],
      "text/plain": [
       "                            loan_amnt  funded_amnt  funded_amnt_inv  int_rate  \\\n",
       "loan_amnt                    1.000000     0.999241         0.997503  0.147545   \n",
       "funded_amnt                  0.999241     1.000000         0.998417  0.147694   \n",
       "funded_amnt_inv              0.997503     0.998417         1.000000  0.147950   \n",
       "int_rate                     0.147545     0.147694         0.147950  1.000000   \n",
       "installment                  0.944051     0.945112         0.943273  0.133895   \n",
       "emp_length                   0.106210     0.106467         0.107599  0.010471   \n",
       "annual_inc                   0.327552     0.327346         0.326719 -0.073608   \n",
       "dti                          0.046441     0.047283         0.049235  0.161965   \n",
       "collections_12_mths_ex_med  -0.017150    -0.016990        -0.016644  0.012875   \n",
       "acc_now_delinq               0.003139     0.003245         0.003436  0.026617   \n",
       "tot_coll_amt                -0.004067    -0.004067        -0.004066  0.001228   \n",
       "tot_cur_bal                  0.323490     0.323489         0.323513 -0.091952   \n",
       "total_rev_hi_lim             0.309215     0.309214         0.309250 -0.162165   \n",
       "default_ind                 -0.003362    -0.004278        -0.006794  0.156634   \n",
       "\n",
       "                            installment  emp_length  annual_inc       dti  \\\n",
       "loan_amnt                      0.944051    0.106210    0.327552  0.046441   \n",
       "funded_amnt                    0.945112    0.106467    0.327346  0.047283   \n",
       "funded_amnt_inv                0.943273    0.107599    0.326719  0.049235   \n",
       "int_rate                       0.133895    0.010471   -0.073608  0.161965   \n",
       "installment                    1.000000    0.090491    0.321821  0.031068   \n",
       "emp_length                     0.090491    1.000000    0.063858  0.043494   \n",
       "annual_inc                     0.321821    0.063858    1.000000 -0.178723   \n",
       "dti                            0.031068    0.043494   -0.178723  1.000000   \n",
       "collections_12_mths_ex_med    -0.014607   -0.004017   -0.003687 -0.000105   \n",
       "acc_now_delinq                 0.005903    0.009071    0.014876  0.007073   \n",
       "tot_coll_amt                  -0.003354   -0.000668    0.001132 -0.004283   \n",
       "tot_cur_bal                    0.292971    0.097809    0.417203 -0.010626   \n",
       "total_rev_hi_lim               0.284237    0.076974    0.269042  0.072163   \n",
       "default_ind                    0.006232   -0.014194   -0.036733  0.010403   \n",
       "\n",
       "                            collections_12_mths_ex_med  acc_now_delinq  \\\n",
       "loan_amnt                                    -0.017150        0.003139   \n",
       "funded_amnt                                  -0.016990        0.003245   \n",
       "funded_amnt_inv                              -0.016644        0.003436   \n",
       "int_rate                                      0.012875        0.026617   \n",
       "installment                                  -0.014607        0.005903   \n",
       "emp_length                                   -0.004017        0.009071   \n",
       "annual_inc                                   -0.003687        0.014876   \n",
       "dti                                          -0.000105        0.007073   \n",
       "collections_12_mths_ex_med                    1.000000        0.040651   \n",
       "acc_now_delinq                                0.040651        1.000000   \n",
       "tot_coll_amt                                  0.009268        0.000319   \n",
       "tot_cur_bal                                  -0.011002        0.022997   \n",
       "total_rev_hi_lim                             -0.016942        0.007977   \n",
       "default_ind                                  -0.011019       -0.003498   \n",
       "\n",
       "                            tot_coll_amt  tot_cur_bal  total_rev_hi_lim  \\\n",
       "loan_amnt                      -0.004067     0.323490          0.309215   \n",
       "funded_amnt                    -0.004067     0.323489          0.309214   \n",
       "funded_amnt_inv                -0.004066     0.323513          0.309250   \n",
       "int_rate                        0.001228    -0.091952         -0.162165   \n",
       "installment                    -0.003354     0.292971          0.284237   \n",
       "emp_length                     -0.000668     0.097809          0.076974   \n",
       "annual_inc                      0.001132     0.417203          0.269042   \n",
       "dti                            -0.004283    -0.010626          0.072163   \n",
       "collections_12_mths_ex_med      0.009268    -0.011002         -0.016942   \n",
       "acc_now_delinq                  0.000319     0.022997          0.007977   \n",
       "tot_coll_amt                    1.000000    -0.000327         -0.004780   \n",
       "tot_cur_bal                    -0.000327     1.000000          0.385290   \n",
       "total_rev_hi_lim               -0.004780     0.385290          1.000000   \n",
       "default_ind                    -0.001841    -0.036395         -0.033086   \n",
       "\n",
       "                            default_ind  \n",
       "loan_amnt                     -0.003362  \n",
       "funded_amnt                   -0.004278  \n",
       "funded_amnt_inv               -0.006794  \n",
       "int_rate                       0.156634  \n",
       "installment                    0.006232  \n",
       "emp_length                    -0.014194  \n",
       "annual_inc                    -0.036733  \n",
       "dti                            0.010403  \n",
       "collections_12_mths_ex_med    -0.011019  \n",
       "acc_now_delinq                -0.003498  \n",
       "tot_coll_amt                  -0.001841  \n",
       "tot_cur_bal                   -0.036395  \n",
       "total_rev_hi_lim              -0.033086  \n",
       "default_ind                    1.000000  "
      ]
     },
     "execution_count": 64,
     "metadata": {},
     "output_type": "execute_result"
    }
   ],
   "source": [
    "df_correlation = df.corr()\n",
    "df_correlation"
   ]
  },
  {
   "cell_type": "code",
   "execution_count": 65,
   "metadata": {},
   "outputs": [
    {
     "data": {
      "text/plain": [
       "(812908, 23)"
      ]
     },
     "execution_count": 65,
     "metadata": {},
     "output_type": "execute_result"
    }
   ],
   "source": [
    "df.shape"
   ]
  },
  {
   "cell_type": "markdown",
   "metadata": {},
   "source": [
    "3. HeatMap: All continuos variables"
   ]
  },
  {
   "cell_type": "code",
   "execution_count": 66,
   "metadata": {},
   "outputs": [
    {
     "data": {
      "image/png": "[encoded data removed]",
      "text/plain": [
       "<Figure size 1008x648 with 2 Axes>"
      ]
     },
     "metadata": {},
     "output_type": "display_data"
    }
   ],
   "source": [
    "f, ax = plt.subplots(figsize=(14, 9))\n",
    "sns.heatmap(df_correlation, \n",
    "            xticklabels=df_correlation.columns.values,\n",
    "            yticklabels=df_correlation.columns.values,annot= True)\n",
    "plt.show()"
   ]
  },
  {
   "cell_type": "markdown",
   "metadata": {},
   "source": [
    "Insights: It is clear from the Heatmap that how 'loan_amnt','funded_amnt' & 'funded_amnt_inv' are closely interrelated.So we can take any one column out of them for our analysis."
   ]
  },
  {
   "cell_type": "code",
   "execution_count": 67,
   "metadata": {},
   "outputs": [],
   "source": [
    "df= df.drop([\"loan_amnt\",\"funded_amnt_inv\"],axis=1)"
   ]
  },
  {
   "cell_type": "code",
   "execution_count": 68,
   "metadata": {},
   "outputs": [
    {
     "name": "stdout",
     "output_type": "stream",
     "text": [
      "<class 'pandas.core.frame.DataFrame'>\n",
      "RangeIndex: 812908 entries, 0 to 812907\n",
      "Data columns (total 21 columns):\n",
      "funded_amnt                   812908 non-null float64\n",
      "term                          812908 non-null object\n",
      "int_rate                      812908 non-null float64\n",
      "installment                   812908 non-null float64\n",
      "grade                         812908 non-null object\n",
      "emp_title                     806146 non-null object\n",
      "emp_length                    812908 non-null int64\n",
      "home_ownership                812908 non-null object\n",
      "annual_inc                    812908 non-null float64\n",
      "verification_status           812908 non-null object\n",
      "issue_d                       812908 non-null datetime64[ns]\n",
      "pymnt_plan                    812908 non-null object\n",
      "purpose                       812908 non-null object\n",
      "dti                           812908 non-null float64\n",
      "initial_list_status           812908 non-null object\n",
      "collections_12_mths_ex_med    812852 non-null float64\n",
      "acc_now_delinq                812908 non-null float64\n",
      "tot_coll_amt                  747616 non-null float64\n",
      "tot_cur_bal                   747616 non-null float64\n",
      "total_rev_hi_lim              747616 non-null float64\n",
      "default_ind                   812908 non-null int64\n",
      "dtypes: datetime64[ns](1), float64(10), int64(2), object(8)\n",
      "memory usage: 130.2+ MB\n"
     ]
    }
   ],
   "source": [
    "df.info()"
   ]
  },
  {
   "cell_type": "markdown",
   "metadata": {},
   "source": [
    "# Data Transformation"
   ]
  },
  {
   "cell_type": "code",
   "execution_count": 69,
   "metadata": {},
   "outputs": [
    {
     "data": {
      "text/plain": [
       "MORTGAGE    409125\n",
       "RENT        327698\n",
       "OWN          75897\n",
       "OTHER          141\n",
       "NONE            44\n",
       "ANY              3\n",
       "Name: home_ownership, dtype: int64"
      ]
     },
     "execution_count": 69,
     "metadata": {},
     "output_type": "execute_result"
    }
   ],
   "source": [
    "df['home_ownership'].value_counts()"
   ]
  },
  {
   "cell_type": "code",
   "execution_count": 70,
   "metadata": {
    "scrolled": true
   },
   "outputs": [
    {
     "data": {
      "text/plain": [
       "10    282090\n",
       "1     122452\n",
       "2      75986\n",
       "3      67392\n",
       "5      53812\n",
       "4      50643\n",
       "7      43204\n",
       "8      42421\n",
       "6      41446\n",
       "9      33462\n",
       "Name: emp_length, dtype: int64"
      ]
     },
     "execution_count": 70,
     "metadata": {},
     "output_type": "execute_result"
    }
   ],
   "source": [
    "df['emp_length'].value_counts()"
   ]
  },
  {
   "cell_type": "markdown",
   "metadata": {},
   "source": [
    "# Data encoding"
   ]
  },
  {
   "cell_type": "code",
   "execution_count": 71,
   "metadata": {},
   "outputs": [
    {
     "name": "stdout",
     "output_type": "stream",
     "text": [
      "Current shape of dataset : (812908, 21)\n"
     ]
    },
    {
     "data": {
      "text/html": [
       "<div>\n",
       "<style scoped>\n",
       "    .dataframe tbody tr th:only-of-type {\n",
       "        vertical-align: middle;\n",
       "    }\n",
       "\n",
       "    .dataframe tbody tr th {\n",
       "        vertical-align: top;\n",
       "    }\n",
       "\n",
       "    .dataframe thead th {\n",
       "        text-align: right;\n",
       "    }\n",
       "</style>\n",
       "<table border=\"1\" class=\"dataframe\">\n",
       "  <thead>\n",
       "    <tr style=\"text-align: right;\">\n",
       "      <th></th>\n",
       "      <th>funded_amnt</th>\n",
       "      <th>term</th>\n",
       "      <th>int_rate</th>\n",
       "      <th>installment</th>\n",
       "      <th>grade</th>\n",
       "      <th>emp_title</th>\n",
       "      <th>emp_length</th>\n",
       "      <th>home_ownership</th>\n",
       "      <th>annual_inc</th>\n",
       "      <th>verification_status</th>\n",
       "      <th>...</th>\n",
       "      <th>pymnt_plan</th>\n",
       "      <th>purpose</th>\n",
       "      <th>dti</th>\n",
       "      <th>initial_list_status</th>\n",
       "      <th>collections_12_mths_ex_med</th>\n",
       "      <th>acc_now_delinq</th>\n",
       "      <th>tot_coll_amt</th>\n",
       "      <th>tot_cur_bal</th>\n",
       "      <th>total_rev_hi_lim</th>\n",
       "      <th>default_ind</th>\n",
       "    </tr>\n",
       "  </thead>\n",
       "  <tbody>\n",
       "    <tr>\n",
       "      <th>0</th>\n",
       "      <td>5000.0</td>\n",
       "      <td>36</td>\n",
       "      <td>10.65</td>\n",
       "      <td>162.87</td>\n",
       "      <td>6</td>\n",
       "      <td>NaN</td>\n",
       "      <td>10</td>\n",
       "      <td>5</td>\n",
       "      <td>24000.0</td>\n",
       "      <td>Verified</td>\n",
       "      <td>...</td>\n",
       "      <td>n</td>\n",
       "      <td>credit_card</td>\n",
       "      <td>27.65</td>\n",
       "      <td>f</td>\n",
       "      <td>0.0</td>\n",
       "      <td>0.0</td>\n",
       "      <td>NaN</td>\n",
       "      <td>NaN</td>\n",
       "      <td>NaN</td>\n",
       "      <td>0</td>\n",
       "    </tr>\n",
       "    <tr>\n",
       "      <th>1</th>\n",
       "      <td>2500.0</td>\n",
       "      <td>60</td>\n",
       "      <td>15.27</td>\n",
       "      <td>59.83</td>\n",
       "      <td>5</td>\n",
       "      <td>Ryder</td>\n",
       "      <td>1</td>\n",
       "      <td>5</td>\n",
       "      <td>30000.0</td>\n",
       "      <td>Source Verified</td>\n",
       "      <td>...</td>\n",
       "      <td>n</td>\n",
       "      <td>car</td>\n",
       "      <td>1.00</td>\n",
       "      <td>f</td>\n",
       "      <td>0.0</td>\n",
       "      <td>0.0</td>\n",
       "      <td>NaN</td>\n",
       "      <td>NaN</td>\n",
       "      <td>NaN</td>\n",
       "      <td>1</td>\n",
       "    </tr>\n",
       "    <tr>\n",
       "      <th>2</th>\n",
       "      <td>2400.0</td>\n",
       "      <td>36</td>\n",
       "      <td>15.96</td>\n",
       "      <td>84.33</td>\n",
       "      <td>5</td>\n",
       "      <td>NaN</td>\n",
       "      <td>10</td>\n",
       "      <td>5</td>\n",
       "      <td>12252.0</td>\n",
       "      <td>Not Verified</td>\n",
       "      <td>...</td>\n",
       "      <td>n</td>\n",
       "      <td>small_business</td>\n",
       "      <td>8.72</td>\n",
       "      <td>f</td>\n",
       "      <td>0.0</td>\n",
       "      <td>0.0</td>\n",
       "      <td>NaN</td>\n",
       "      <td>NaN</td>\n",
       "      <td>NaN</td>\n",
       "      <td>0</td>\n",
       "    </tr>\n",
       "    <tr>\n",
       "      <th>3</th>\n",
       "      <td>10000.0</td>\n",
       "      <td>36</td>\n",
       "      <td>13.49</td>\n",
       "      <td>339.31</td>\n",
       "      <td>5</td>\n",
       "      <td>AIR RESOURCES BOARD</td>\n",
       "      <td>10</td>\n",
       "      <td>5</td>\n",
       "      <td>49200.0</td>\n",
       "      <td>Source Verified</td>\n",
       "      <td>...</td>\n",
       "      <td>n</td>\n",
       "      <td>other</td>\n",
       "      <td>20.00</td>\n",
       "      <td>f</td>\n",
       "      <td>0.0</td>\n",
       "      <td>0.0</td>\n",
       "      <td>NaN</td>\n",
       "      <td>NaN</td>\n",
       "      <td>NaN</td>\n",
       "      <td>0</td>\n",
       "    </tr>\n",
       "    <tr>\n",
       "      <th>4</th>\n",
       "      <td>3000.0</td>\n",
       "      <td>60</td>\n",
       "      <td>12.69</td>\n",
       "      <td>67.79</td>\n",
       "      <td>6</td>\n",
       "      <td>University Medical Group</td>\n",
       "      <td>1</td>\n",
       "      <td>5</td>\n",
       "      <td>80000.0</td>\n",
       "      <td>Source Verified</td>\n",
       "      <td>...</td>\n",
       "      <td>n</td>\n",
       "      <td>other</td>\n",
       "      <td>17.94</td>\n",
       "      <td>f</td>\n",
       "      <td>0.0</td>\n",
       "      <td>0.0</td>\n",
       "      <td>NaN</td>\n",
       "      <td>NaN</td>\n",
       "      <td>NaN</td>\n",
       "      <td>0</td>\n",
       "    </tr>\n",
       "  </tbody>\n",
       "</table>\n",
       "<p>5 rows × 21 columns</p>\n",
       "</div>"
      ],
      "text/plain": [
       "   funded_amnt term  int_rate  installment  grade                 emp_title  \\\n",
       "0       5000.0   36     10.65       162.87      6                       NaN   \n",
       "1       2500.0   60     15.27        59.83      5                     Ryder   \n",
       "2       2400.0   36     15.96        84.33      5                       NaN   \n",
       "3      10000.0   36     13.49       339.31      5       AIR RESOURCES BOARD   \n",
       "4       3000.0   60     12.69        67.79      6  University Medical Group   \n",
       "\n",
       "   emp_length  home_ownership  annual_inc verification_status     ...       \\\n",
       "0          10               5     24000.0            Verified     ...        \n",
       "1           1               5     30000.0     Source Verified     ...        \n",
       "2          10               5     12252.0        Not Verified     ...        \n",
       "3          10               5     49200.0     Source Verified     ...        \n",
       "4           1               5     80000.0     Source Verified     ...        \n",
       "\n",
       "  pymnt_plan         purpose    dti  initial_list_status  \\\n",
       "0          n     credit_card  27.65                    f   \n",
       "1          n             car   1.00                    f   \n",
       "2          n  small_business   8.72                    f   \n",
       "3          n           other  20.00                    f   \n",
       "4          n           other  17.94                    f   \n",
       "\n",
       "  collections_12_mths_ex_med  acc_now_delinq  tot_coll_amt  tot_cur_bal  \\\n",
       "0                        0.0             0.0           NaN          NaN   \n",
       "1                        0.0             0.0           NaN          NaN   \n",
       "2                        0.0             0.0           NaN          NaN   \n",
       "3                        0.0             0.0           NaN          NaN   \n",
       "4                        0.0             0.0           NaN          NaN   \n",
       "\n",
       "   total_rev_hi_lim  default_ind  \n",
       "0               NaN            0  \n",
       "1               NaN            1  \n",
       "2               NaN            0  \n",
       "3               NaN            0  \n",
       "4               NaN            0  \n",
       "\n",
       "[5 rows x 21 columns]"
      ]
     },
     "execution_count": 71,
     "metadata": {},
     "output_type": "execute_result"
    }
   ],
   "source": [
    "#Data encoding\n",
    "df['grade'] = df['grade'].map({'A':7,'B':6,'C':5,'D':4,'E':3,'F':2,'G':1})\n",
    "df[\"home_ownership\"] = df[\"home_ownership\"].map({\"MORTGAGE\":6,\"RENT\":5,\"OWN\":4,\"OTHER\":3,\"NONE\":2,\"ANY\":1})\n",
    "df[\"emp_length\"] = df[\"emp_length\"].apply(lambda x:int(x))\n",
    "print(\"Current shape of dataset :\",df.shape)\n",
    "\n",
    "df.head()"
   ]
  },
  {
   "cell_type": "code",
   "execution_count": 72,
   "metadata": {},
   "outputs": [
    {
     "data": {
      "text/plain": [
       "array([6, 5, 7, 3, 2, 4, 1], dtype=int64)"
      ]
     },
     "execution_count": 72,
     "metadata": {},
     "output_type": "execute_result"
    }
   ],
   "source": [
    "df.grade.unique()"
   ]
  },
  {
   "cell_type": "code",
   "execution_count": 73,
   "metadata": {
    "scrolled": true
   },
   "outputs": [
    {
     "data": {
      "text/plain": [
       "funded_amnt                   0.000000\n",
       "term                          0.000000\n",
       "int_rate                      0.000000\n",
       "installment                   0.000000\n",
       "grade                         0.000000\n",
       "emp_title                     0.831828\n",
       "emp_length                    0.000000\n",
       "home_ownership                0.000000\n",
       "annual_inc                    0.000000\n",
       "verification_status           0.000000\n",
       "issue_d                       0.000000\n",
       "pymnt_plan                    0.000000\n",
       "purpose                       0.000000\n",
       "dti                           0.000000\n",
       "initial_list_status           0.000000\n",
       "collections_12_mths_ex_med    0.006889\n",
       "acc_now_delinq                0.000000\n",
       "tot_coll_amt                  8.031905\n",
       "tot_cur_bal                   8.031905\n",
       "total_rev_hi_lim              8.031905\n",
       "default_ind                   0.000000\n",
       "dtype: float64"
      ]
     },
     "execution_count": 73,
     "metadata": {},
     "output_type": "execute_result"
    }
   ],
   "source": [
    "100*(df.isnull().sum()/len(df.index))"
   ]
  },
  {
   "cell_type": "markdown",
   "metadata": {},
   "source": [
    "filling null value with its mode"
   ]
  },
  {
   "cell_type": "code",
   "execution_count": 74,
   "metadata": {},
   "outputs": [
    {
     "name": "stdout",
     "output_type": "stream",
     "text": [
      "Current shape of dataset : (812908, 21)\n"
     ]
    }
   ],
   "source": [
    "df = df.fillna(df.mode())\n",
    "print(\"Current shape of dataset :\",df.shape)"
   ]
  },
  {
   "cell_type": "code",
   "execution_count": 75,
   "metadata": {},
   "outputs": [],
   "source": [
    "df.drop(labels=['emp_title'],axis=1,inplace=True)"
   ]
  },
  {
   "cell_type": "code",
   "execution_count": 76,
   "metadata": {},
   "outputs": [],
   "source": [
    "mean = df[['tot_coll_amt','tot_cur_bal','total_rev_hi_lim']].mean()"
   ]
  },
  {
   "cell_type": "code",
   "execution_count": 77,
   "metadata": {},
   "outputs": [],
   "source": [
    "df[['tot_coll_amt','tot_cur_bal','total_rev_hi_lim']]= df[['tot_coll_amt','tot_cur_bal','total_rev_hi_lim']].fillna(mean)"
   ]
  },
  {
   "cell_type": "code",
   "execution_count": 78,
   "metadata": {},
   "outputs": [
    {
     "data": {
      "text/plain": [
       "funded_amnt                    0\n",
       "term                           0\n",
       "int_rate                       0\n",
       "installment                    0\n",
       "grade                          0\n",
       "emp_length                     0\n",
       "home_ownership                 0\n",
       "annual_inc                     0\n",
       "verification_status            0\n",
       "issue_d                        0\n",
       "pymnt_plan                     0\n",
       "purpose                        0\n",
       "dti                            0\n",
       "initial_list_status            0\n",
       "collections_12_mths_ex_med    56\n",
       "acc_now_delinq                 0\n",
       "tot_coll_amt                   0\n",
       "tot_cur_bal                    0\n",
       "total_rev_hi_lim               0\n",
       "default_ind                    0\n",
       "dtype: int64"
      ]
     },
     "execution_count": 78,
     "metadata": {},
     "output_type": "execute_result"
    }
   ],
   "source": [
    "df.isnull().sum()"
   ]
  },
  {
   "cell_type": "code",
   "execution_count": 79,
   "metadata": {},
   "outputs": [],
   "source": [
    "df.drop('collections_12_mths_ex_med',axis= 1, inplace = True)"
   ]
  },
  {
   "cell_type": "code",
   "execution_count": 80,
   "metadata": {},
   "outputs": [
    {
     "name": "stdout",
     "output_type": "stream",
     "text": [
      "<class 'pandas.core.frame.DataFrame'>\n",
      "RangeIndex: 812908 entries, 0 to 812907\n",
      "Data columns (total 19 columns):\n",
      "funded_amnt            812908 non-null float64\n",
      "term                   812908 non-null object\n",
      "int_rate               812908 non-null float64\n",
      "installment            812908 non-null float64\n",
      "grade                  812908 non-null int64\n",
      "emp_length             812908 non-null int64\n",
      "home_ownership         812908 non-null int64\n",
      "annual_inc             812908 non-null float64\n",
      "verification_status    812908 non-null object\n",
      "issue_d                812908 non-null datetime64[ns]\n",
      "pymnt_plan             812908 non-null object\n",
      "purpose                812908 non-null object\n",
      "dti                    812908 non-null float64\n",
      "initial_list_status    812908 non-null object\n",
      "acc_now_delinq         812908 non-null float64\n",
      "tot_coll_amt           812908 non-null float64\n",
      "tot_cur_bal            812908 non-null float64\n",
      "total_rev_hi_lim       812908 non-null float64\n",
      "default_ind            812908 non-null int64\n",
      "dtypes: datetime64[ns](1), float64(9), int64(4), object(5)\n",
      "memory usage: 117.8+ MB\n"
     ]
    }
   ],
   "source": [
    "df.info()"
   ]
  },
  {
   "cell_type": "markdown",
   "metadata": {},
   "source": [
    "Purpose of loan : Drop records where values are less than 0.75%\n",
    "We will analyse only those categories which contain more than 0.75% of records. Also, we are not aware what comes under 'Other' we will remove this category as well."
   ]
  },
  {
   "cell_type": "code",
   "execution_count": 81,
   "metadata": {},
   "outputs": [
    {
     "name": "stdout",
     "output_type": "stream",
     "text": [
      "So now we are left with (759045, 19) rows & columns.\n",
      "['credit_card' 'car' 'small_business' 'debt_consolidation'\n",
      " 'home_improvement' 'major_purchase' 'medical']\n"
     ]
    }
   ],
   "source": [
    "del_df_purpose = (df.purpose.value_counts()*100)/len(df)\n",
    "del_df_purpose = del_df_purpose[(del_df_purpose < 0.75) | (del_df_purpose.index == 'other')]\n",
    "\n",
    "df.drop(labels = df[df.purpose.isin(del_df_purpose.index)].index, inplace=True)\n",
    "print(\"So now we are left with\",df.shape ,\"rows & columns.\")\n",
    "print(df.purpose.unique())"
   ]
  },
  {
   "cell_type": "code",
   "execution_count": 82,
   "metadata": {},
   "outputs": [
    {
     "data": {
      "text/plain": [
       "0           credit_card\n",
       "1                   car\n",
       "2        small_business\n",
       "6    debt_consolidation\n",
       "7                   car\n",
       "Name: purpose, dtype: object"
      ]
     },
     "execution_count": 82,
     "metadata": {},
     "output_type": "execute_result"
    }
   ],
   "source": [
    "df.purpose.head()"
   ]
  },
  {
   "cell_type": "code",
   "execution_count": 83,
   "metadata": {},
   "outputs": [
    {
     "data": {
      "text/plain": [
       "array(['credit_card', 'car', 'small_business', 'debt_consolidation',\n",
       "       'home_improvement', 'major_purchase', 'medical'], dtype=object)"
      ]
     },
     "execution_count": 83,
     "metadata": {},
     "output_type": "execute_result"
    }
   ],
   "source": [
    "df.purpose.unique()"
   ]
  },
  {
   "cell_type": "code",
   "execution_count": 84,
   "metadata": {},
   "outputs": [],
   "source": [
    "df['purpose'] = df['purpose'].map({'credit_card':1, 'car':2, 'small_business':3, 'debt_consolidation':4,\n",
    "       'home_improvement':5, 'major_purchase':6, 'medical':7})"
   ]
  },
  {
   "cell_type": "code",
   "execution_count": 85,
   "metadata": {},
   "outputs": [
    {
     "data": {
      "text/plain": [
       "0"
      ]
     },
     "execution_count": 85,
     "metadata": {},
     "output_type": "execute_result"
    }
   ],
   "source": [
    "df.purpose.isnull().sum()"
   ]
  },
  {
   "cell_type": "code",
   "execution_count": 86,
   "metadata": {},
   "outputs": [
    {
     "data": {
      "text/plain": [
       "0           Verified\n",
       "1    Source Verified\n",
       "2       Not Verified\n",
       "6       Not Verified\n",
       "7    Source Verified\n",
       "Name: verification_status, dtype: object"
      ]
     },
     "execution_count": 86,
     "metadata": {},
     "output_type": "execute_result"
    }
   ],
   "source": [
    "df.verification_status.head()"
   ]
  },
  {
   "cell_type": "code",
   "execution_count": 87,
   "metadata": {},
   "outputs": [],
   "source": [
    "df['verification_status'] = df['verification_status'].map({'Source Verified':3,'Not Verified':2,'Verified':1})\n",
    "#df['purpose'] = df['purpose'].map({'debt_consolidation':4, 'small_business':3, 'car':2, 'credit_card':1})"
   ]
  },
  {
   "cell_type": "code",
   "execution_count": 88,
   "metadata": {},
   "outputs": [
    {
     "data": {
      "text/plain": [
       "array(['n', 'y'], dtype=object)"
      ]
     },
     "execution_count": 88,
     "metadata": {},
     "output_type": "execute_result"
    }
   ],
   "source": [
    "df.pymnt_plan.unique()"
   ]
  },
  {
   "cell_type": "code",
   "execution_count": 89,
   "metadata": {},
   "outputs": [],
   "source": [
    "df['pymnt_plan'] = df['pymnt_plan'].map({'n':1, 'y':2})"
   ]
  },
  {
   "cell_type": "code",
   "execution_count": 90,
   "metadata": {},
   "outputs": [
    {
     "data": {
      "text/plain": [
       "array(['f', 'w'], dtype=object)"
      ]
     },
     "execution_count": 90,
     "metadata": {},
     "output_type": "execute_result"
    }
   ],
   "source": [
    "df.initial_list_status.unique()"
   ]
  },
  {
   "cell_type": "code",
   "execution_count": 91,
   "metadata": {},
   "outputs": [],
   "source": [
    "df['initial_list_status'] = df['initial_list_status'].map({'f':1, 'w':2})"
   ]
  },
  {
   "cell_type": "markdown",
   "metadata": {},
   "source": [
    "# Machine Learning/Modelling"
   ]
  },
  {
   "cell_type": "code",
   "execution_count": 92,
   "metadata": {},
   "outputs": [],
   "source": [
    "train = df[df['issue_d'] < '2015-6-01']\n",
    "test = df[df['issue_d'] >= '2015-6-01']"
   ]
  },
  {
   "cell_type": "markdown",
   "metadata": {},
   "source": [
    "Deleting date column"
   ]
  },
  {
   "cell_type": "code",
   "execution_count": 93,
   "metadata": {},
   "outputs": [],
   "source": [
    "del df['issue_d']"
   ]
  },
  {
   "cell_type": "code",
   "execution_count": 94,
   "metadata": {},
   "outputs": [],
   "source": [
    "X_train=train.iloc[:,:-1].values\n",
    "y_train=train.iloc[:,-1].values\n",
    "X_test=test.iloc[:,:-1].values\n",
    "y_test=test.iloc[:,-1].values"
   ]
  },
  {
   "cell_type": "markdown",
   "metadata": {},
   "source": [
    "Independent & Dependent Varibles"
   ]
  },
  {
   "cell_type": "code",
   "execution_count": 95,
   "metadata": {},
   "outputs": [],
   "source": [
    "X=df.iloc[:,:-1].values\n",
    "y=df.iloc[:,-1].values"
   ]
  },
  {
   "cell_type": "markdown",
   "metadata": {},
   "source": [
    "Sampling"
   ]
  },
  {
   "cell_type": "code",
   "execution_count": 96,
   "metadata": {},
   "outputs": [],
   "source": [
    "#from imblearn.under_sampling import NearMiss\n",
    "#os=NearMiss(random_state=42)\n",
    "#X_res,y_res=os.fit_sample(X,y)"
   ]
  },
  {
   "cell_type": "code",
   "execution_count": 97,
   "metadata": {},
   "outputs": [],
   "source": [
    "from imblearn.over_sampling import SMOTE\n",
    "smt = SMOTE()\n",
    "x_train, y_train = smt.fit_sample(X, y)"
   ]
  },
  {
   "cell_type": "markdown",
   "metadata": {},
   "source": [
    "Splitting data"
   ]
  },
  {
   "cell_type": "code",
   "execution_count": 98,
   "metadata": {},
   "outputs": [],
   "source": [
    "X_train,X_test,y_train,y_test=train_test_split(x_train, y_train,test_size=0.25,random_state=0)"
   ]
  },
  {
   "cell_type": "code",
   "execution_count": 99,
   "metadata": {},
   "outputs": [
    {
     "data": {
      "text/plain": [
       "array([539487, 539413], dtype=int64)"
      ]
     },
     "execution_count": 99,
     "metadata": {},
     "output_type": "execute_result"
    }
   ],
   "source": [
    "np.bincount(y_train)"
   ]
  },
  {
   "cell_type": "markdown",
   "metadata": {},
   "source": [
    "MODELLING"
   ]
  },
  {
   "cell_type": "code",
   "execution_count": 100,
   "metadata": {},
   "outputs": [
    {
     "name": "stderr",
     "output_type": "stream",
     "text": [
      "C:\\ProgramData\\Anaconda3\\lib\\site-packages\\sklearn\\linear_model\\logistic.py:433: FutureWarning: Default solver will be changed to 'lbfgs' in 0.22. Specify a solver to silence this warning.\n",
      "  FutureWarning)\n"
     ]
    },
    {
     "name": "stdout",
     "output_type": "stream",
     "text": [
      "Logistic regression accuracy is 0.6723530033311644\n"
     ]
    }
   ],
   "source": [
    "lr = LogisticRegression()\n",
    "lr.fit(X_train, y_train)\n",
    "lr_pred = lr.predict(X_test)\n",
    "lr_Accuracy =accuracy_score(y_test, lr_pred)\n",
    "print(\"Logistic regression accuracy is\", lr_Accuracy)"
   ]
  },
  {
   "cell_type": "code",
   "execution_count": 101,
   "metadata": {},
   "outputs": [
    {
     "name": "stdout",
     "output_type": "stream",
     "text": [
      "[[118470  61310]\n",
      " [ 56523 123331]]\n",
      "0.667950238571065\n",
      "0.6857284241662682\n",
      "0.6723502505746237\n",
      "Logistic regression accuracy is 0.6723530033311644\n"
     ]
    }
   ],
   "source": [
    "from sklearn.metrics import confusion_matrix, precision_score\n",
    "from sklearn.metrics import classification_report\n",
    "print(confusion_matrix(y_test, lr_pred))\n",
    "print(precision_score(y_test, lr_pred))\n",
    "print(recall_score(y_test, lr_pred))\n",
    "print(roc_auc_score(y_test, lr_pred))\n",
    "print(\"Logistic regression accuracy is\", lr_Accuracy)"
   ]
  },
  {
   "cell_type": "code",
   "execution_count": 102,
   "metadata": {},
   "outputs": [
    {
     "name": "stdout",
     "output_type": "stream",
     "text": [
      "[[118470  61310]\n",
      " [ 56523 123331]]\n",
      "              precision    recall  f1-score   support\n",
      "\n",
      "           0       0.68      0.66      0.67    179780\n",
      "           1       0.67      0.69      0.68    179854\n",
      "\n",
      "   micro avg       0.67      0.67      0.67    359634\n",
      "   macro avg       0.67      0.67      0.67    359634\n",
      "weighted avg       0.67      0.67      0.67    359634\n",
      "\n",
      "Logistic regression accuracy is 0.6723530033311644\n"
     ]
    }
   ],
   "source": [
    "#from sklearn.metrics import confusion_matrix\n",
    "#from sklearn.metrics import classification_report\n",
    "print(confusion_matrix(y_test,lr_pred))\n",
    "print(classification_report(y_test,lr_pred))\n",
    "print(\"Logistic regression accuracy is\", lr_Accuracy)\n",
    "#confusion_matrix(y_test, lr_pred)\n"
   ]
  },
  {
   "cell_type": "code",
   "execution_count": 103,
   "metadata": {},
   "outputs": [
    {
     "name": "stdout",
     "output_type": "stream",
     "text": [
      "Fitting 5 folds for each of 10 candidates, totalling 50 fits\n"
     ]
    },
    {
     "name": "stderr",
     "output_type": "stream",
     "text": [
      "[Parallel(n_jobs=3)]: Using backend LokyBackend with 3 concurrent workers.\n",
      "[Parallel(n_jobs=3)]: Done  12 tasks      | elapsed:  3.3min\n",
      "[Parallel(n_jobs=3)]: Done  50 out of  50 | elapsed: 13.1min finished\n",
      "C:\\ProgramData\\Anaconda3\\lib\\site-packages\\sklearn\\linear_model\\logistic.py:433: FutureWarning: Default solver will be changed to 'lbfgs' in 0.22. Specify a solver to silence this warning.\n",
      "  FutureWarning)\n"
     ]
    },
    {
     "data": {
      "text/plain": [
       "GridSearchCV(cv=5, error_score='raise-deprecating',\n",
       "       estimator=LogisticRegression(C=1.0, class_weight=None, dual=False, fit_intercept=True,\n",
       "          intercept_scaling=1, max_iter=100, multi_class='warn',\n",
       "          n_jobs=None, penalty='l2', random_state=None, solver='warn',\n",
       "          tol=0.0001, verbose=0, warm_start=False),\n",
       "       fit_params=None, iid='warn', n_jobs=3,\n",
       "       param_grid={'C': array([ 1.,  2.,  3.,  4.,  5.,  6.,  7.,  8.,  9., 10.])},\n",
       "       pre_dispatch='2*n_jobs', refit=True, return_train_score='warn',\n",
       "       scoring=None, verbose=5)"
      ]
     },
     "execution_count": 103,
     "metadata": {},
     "output_type": "execute_result"
    }
   ],
   "source": [
    "from sklearn.model_selection import GridSearchCV\n",
    "from sklearn.linear_model import LogisticRegression\n",
    "from sklearn.metrics import confusion_matrix, precision_recall_curve, auc, roc_auc_score, roc_curve, recall_score, classification_report\n",
    "\n",
    "parameters = {\n",
    "    'C': np.linspace(1, 10, 10)\n",
    "             }\n",
    "lr = LogisticRegression()\n",
    "clf = GridSearchCV(lr, parameters, cv=5, verbose=5, n_jobs=3)\n",
    "clf.fit(X_train, y_train)\n"
   ]
  },
  {
   "cell_type": "code",
   "execution_count": 104,
   "metadata": {},
   "outputs": [
    {
     "name": "stdout",
     "output_type": "stream",
     "text": [
      "Logistic regression with grid search accuracy is 0.6723530033311644\n",
      "[[118470  61310]\n",
      " [ 56523 123331]]\n",
      "              precision    recall  f1-score   support\n",
      "\n",
      "           0       0.68      0.66      0.67    179780\n",
      "           1       0.67      0.69      0.68    179854\n",
      "\n",
      "   micro avg       0.67      0.67      0.67    359634\n",
      "   macro avg       0.67      0.67      0.67    359634\n",
      "weighted avg       0.67      0.67      0.67    359634\n",
      "\n"
     ]
    }
   ],
   "source": [
    "clf_pred = clf.predict(X_test)\n",
    "clf_Accuracy =accuracy_score(y_test, clf_pred)\n",
    "print(\"Logistic regression with grid search accuracy is\", clf_Accuracy)\n",
    "print(confusion_matrix(y_test,clf_pred))\n",
    "print(classification_report(y_test,clf_pred))"
   ]
  },
  {
   "cell_type": "code",
   "execution_count": 105,
   "metadata": {},
   "outputs": [],
   "source": [
    "#from sklearn.utils import class_weight\n",
    "\n",
    "#class_weights = class_weight.compute_class_weight('balanced',np.unique(y_train),y_train)\n",
    "#model.fit(X_train, y_train, class_weight=class_weights)"
   ]
  },
  {
   "cell_type": "code",
   "execution_count": 106,
   "metadata": {},
   "outputs": [],
   "source": [
    "import xgboost\n",
    "from xgboost import XGBClassifier\n",
    "xgb= XGBClassifier()\n",
    "xgb.fit(X_train,y_train)\n",
    "xgb_pred=xgb.predict(X_test)\n",
    "XGB_Accuracy = accuracy_score(y_test,xgb_pred.round())"
   ]
  },
  {
   "cell_type": "code",
   "execution_count": 107,
   "metadata": {},
   "outputs": [
    {
     "name": "stdout",
     "output_type": "stream",
     "text": [
      "[[178451   1329]\n",
      " [ 14100 165754]]\n",
      "0.9920458694181934\n",
      "0.9216030780521979\n",
      "0.9571053548009347\n",
      "XGB accuracy is 0.9570980496838453\n"
     ]
    }
   ],
   "source": [
    "print(confusion_matrix(y_test,xgb_pred))\n",
    "print(precision_score(y_test, xgb_pred))\n",
    "print(recall_score(y_test, xgb_pred))\n",
    "print(roc_auc_score(y_test, xgb_pred))\n",
    "xgb_Accuracy =accuracy_score(y_test, xgb_pred)\n",
    "print(\"XGB accuracy is\", xgb_Accuracy)"
   ]
  },
  {
   "cell_type": "code",
   "execution_count": 108,
   "metadata": {
    "scrolled": false
   },
   "outputs": [
    {
     "name": "stdout",
     "output_type": "stream",
     "text": [
      "[[178451   1329]\n",
      " [ 14100 165754]]\n",
      "              precision    recall  f1-score   support\n",
      "\n",
      "           0       0.93      0.99      0.96    179780\n",
      "           1       0.99      0.92      0.96    179854\n",
      "\n",
      "   micro avg       0.96      0.96      0.96    359634\n",
      "   macro avg       0.96      0.96      0.96    359634\n",
      "weighted avg       0.96      0.96      0.96    359634\n",
      "\n"
     ]
    }
   ],
   "source": [
    "from sklearn.metrics import confusion_matrix\n",
    "from sklearn.metrics import classification_report\n",
    "print(confusion_matrix(y_test,xgb_pred))\n",
    "print(classification_report(y_test,xgb_pred))\n"
   ]
  },
  {
   "cell_type": "code",
   "execution_count": 124,
   "metadata": {},
   "outputs": [],
   "source": [
    "randomForest=RandomForestClassifier(n_estimators=10, criterion='entropy')\n",
    "randomForest.fit(X_train,y_train)\n",
    "rfPredict=randomForest.predict(X_test)\n",
    "rf_pred_prob=randomForest.predict_proba(X_test)"
   ]
  },
  {
   "cell_type": "code",
   "execution_count": 125,
   "metadata": {},
   "outputs": [
    {
     "name": "stdout",
     "output_type": "stream",
     "text": [
      "RandomForest accuracy is 0.9690629918194609\n",
      "0.995349711118418\n",
      "0.9425422842972634\n",
      "0.9690684499693015\n",
      "[[178988    792]\n",
      " [ 10334 169520]]\n"
     ]
    }
   ],
   "source": [
    "rf_Accuracy =accuracy_score(y_test, rfPredict)\n",
    "print(\"RandomForest accuracy is\", rf_Accuracy)\n",
    "print(precision_score(y_test, rfPredict))\n",
    "print(recall_score(y_test, rfPredict))\n",
    "print(roc_auc_score(y_test, rfPredict))\n",
    "print(confusion_matrix(y_test,rfPredict))"
   ]
  },
  {
   "cell_type": "code",
   "execution_count": 111,
   "metadata": {},
   "outputs": [
    {
     "name": "stdout",
     "output_type": "stream",
     "text": [
      "[[179029    751]\n",
      " [ 10403 169451]]\n",
      "              precision    recall  f1-score   support\n",
      "\n",
      "           0       0.95      1.00      0.97    179780\n",
      "           1       1.00      0.94      0.97    179854\n",
      "\n",
      "   micro avg       0.97      0.97      0.97    359634\n",
      "   macro avg       0.97      0.97      0.97    359634\n",
      "weighted avg       0.97      0.97      0.97    359634\n",
      "\n"
     ]
    }
   ],
   "source": [
    "print(confusion_matrix(y_test,rfPredict))\n",
    "print(classification_report(y_test,rfPredict))"
   ]
  },
  {
   "cell_type": "code",
   "execution_count": 112,
   "metadata": {},
   "outputs": [],
   "source": [
    "from sklearn.tree import DecisionTreeClassifier\n",
    "from sklearn.metrics import accuracy_score\n",
    "from sklearn import tree"
   ]
  },
  {
   "cell_type": "code",
   "execution_count": 113,
   "metadata": {},
   "outputs": [],
   "source": [
    "decisiontree = DecisionTreeClassifier(criterion = \"gini\", max_depth=3, min_samples_leaf=1)\n",
    "decisiontree.fit(X_train, y_train)\n",
    "dt_pred = decisiontree.predict(X_test)"
   ]
  },
  {
   "cell_type": "code",
   "execution_count": 114,
   "metadata": {},
   "outputs": [
    {
     "name": "stdout",
     "output_type": "stream",
     "text": [
      "decision tree accuracy is 0.7740285957390013\n",
      "[[132141  47639]\n",
      " [ 33628 146226]]\n",
      "0.7542671446625229\n",
      "0.8130261211871852\n",
      "0.7740205697714768\n"
     ]
    }
   ],
   "source": [
    "from sklearn.metrics import confusion_matrix,precision_score,recall_score,roc_auc_score\n",
    "dt_Accuracy =accuracy_score(y_test, dt_pred)\n",
    "print(\"decision tree accuracy is\", dt_Accuracy)\n",
    "print(confusion_matrix(y_test,dt_pred))\n",
    "print(precision_score(y_test, dt_pred))\n",
    "print(recall_score(y_test, dt_pred))\n",
    "print(roc_auc_score(y_test, dt_pred))\n"
   ]
  },
  {
   "cell_type": "code",
   "execution_count": 115,
   "metadata": {},
   "outputs": [],
   "source": [
    "from sklearn.discriminant_analysis import LinearDiscriminantAnalysis\n",
    "from sklearn.linear_model import LogisticRegression\n",
    "from sklearn.tree import DecisionTreeClassifier\n",
    "from sklearn.neighbors import KNeighborsClassifier\n",
    "from sklearn.ensemble import RandomForestClassifier"
   ]
  },
  {
   "cell_type": "code",
   "execution_count": 116,
   "metadata": {},
   "outputs": [],
   "source": [
    "models=[]\n",
    "models.append((\"logreg\",LogisticRegression(solver='liblinear')))\n",
    "models.append((\"tree\",DecisionTreeClassifier()))\n",
    "models.append((\"forest\",RandomForestClassifier(n_estimators=20)))\n",
    "models.append((\"lda\",LinearDiscriminantAnalysis()))\n",
    "models.append((\"knn\",KNeighborsClassifier()))"
   ]
  },
  {
   "cell_type": "code",
   "execution_count": 117,
   "metadata": {},
   "outputs": [
    {
     "data": {
      "text/plain": [
       "[('logreg',\n",
       "  LogisticRegression(C=1.0, class_weight=None, dual=False, fit_intercept=True,\n",
       "            intercept_scaling=1, max_iter=100, multi_class='warn',\n",
       "            n_jobs=None, penalty='l2', random_state=None, solver='liblinear',\n",
       "            tol=0.0001, verbose=0, warm_start=False)),\n",
       " ('tree',\n",
       "  DecisionTreeClassifier(class_weight=None, criterion='gini', max_depth=None,\n",
       "              max_features=None, max_leaf_nodes=None,\n",
       "              min_impurity_decrease=0.0, min_impurity_split=None,\n",
       "              min_samples_leaf=1, min_samples_split=2,\n",
       "              min_weight_fraction_leaf=0.0, presort=False, random_state=None,\n",
       "              splitter='best')),\n",
       " ('forest',\n",
       "  RandomForestClassifier(bootstrap=True, class_weight=None, criterion='gini',\n",
       "              max_depth=None, max_features='auto', max_leaf_nodes=None,\n",
       "              min_impurity_decrease=0.0, min_impurity_split=None,\n",
       "              min_samples_leaf=1, min_samples_split=2,\n",
       "              min_weight_fraction_leaf=0.0, n_estimators=20, n_jobs=None,\n",
       "              oob_score=False, random_state=None, verbose=0,\n",
       "              warm_start=False)),\n",
       " ('lda',\n",
       "  LinearDiscriminantAnalysis(n_components=None, priors=None, shrinkage=None,\n",
       "                solver='svd', store_covariance=False, tol=0.0001)),\n",
       " ('knn',\n",
       "  KNeighborsClassifier(algorithm='auto', leaf_size=30, metric='minkowski',\n",
       "             metric_params=None, n_jobs=None, n_neighbors=5, p=2,\n",
       "             weights='uniform'))]"
      ]
     },
     "execution_count": 117,
     "metadata": {},
     "output_type": "execute_result"
    }
   ],
   "source": [
    "models"
   ]
  },
  {
   "cell_type": "code",
   "execution_count": 118,
   "metadata": {},
   "outputs": [],
   "source": [
    "seed=7\n",
    "scoring='accuracy'\n",
    "# Scoring can be 'precision' or 'recall' as well"
   ]
  },
  {
   "cell_type": "code",
   "execution_count": 119,
   "metadata": {},
   "outputs": [],
   "source": [
    "from sklearn.model_selection import KFold \n",
    "from sklearn.model_selection import cross_val_score\n",
    "result=[]\n",
    "names=[]"
   ]
  },
  {
   "cell_type": "code",
   "execution_count": 120,
   "metadata": {},
   "outputs": [
    {
     "name": "stdout",
     "output_type": "stream",
     "text": [
      "logreg 0.671265 0.003169\n",
      "tree 0.943618 0.000327\n",
      "forest 0.969696 0.000761\n",
      "lda 0.700109 0.001127\n",
      "knn 0.846567 0.000428\n"
     ]
    }
   ],
   "source": [
    "for name,model in models:\n",
    "    kfold=KFold(n_splits=5,random_state=seed)\n",
    "    cv_result=cross_val_score(model,X_train,y_train,cv=kfold,scoring=scoring)\n",
    "    result.append(cv_result)\n",
    "    names.append(name)\n",
    "    print(\"%s %f %f\" % (name,cv_result.mean(),cv_result.std()))"
   ]
  },
  {
   "cell_type": "code",
   "execution_count": 121,
   "metadata": {},
   "outputs": [
    {
     "name": "stdout",
     "output_type": "stream",
     "text": [
      "RF               precision    recall  f1-score   support\n",
      "\n",
      "           0       0.95      1.00      0.97    179780\n",
      "           1       1.00      0.94      0.97    179854\n",
      "\n",
      "   micro avg       0.97      0.97      0.97    359634\n",
      "   macro avg       0.97      0.97      0.97    359634\n",
      "weighted avg       0.97      0.97      0.97    359634\n",
      "\n",
      "XGB               precision    recall  f1-score   support\n",
      "\n",
      "           0       0.93      0.99      0.96    179780\n",
      "           1       0.99      0.92      0.96    179854\n",
      "\n",
      "   micro avg       0.96      0.96      0.96    359634\n",
      "   macro avg       0.96      0.96      0.96    359634\n",
      "weighted avg       0.96      0.96      0.96    359634\n",
      "\n",
      "LR               precision    recall  f1-score   support\n",
      "\n",
      "           0       0.68      0.66      0.67    179780\n",
      "           1       0.67      0.69      0.68    179854\n",
      "\n",
      "   micro avg       0.67      0.67      0.67    359634\n",
      "   macro avg       0.67      0.67      0.67    359634\n",
      "weighted avg       0.67      0.67      0.67    359634\n",
      "\n",
      "DT               precision    recall  f1-score   support\n",
      "\n",
      "           0       0.80      0.74      0.76    179780\n",
      "           1       0.75      0.81      0.78    179854\n",
      "\n",
      "   micro avg       0.77      0.77      0.77    359634\n",
      "   macro avg       0.78      0.77      0.77    359634\n",
      "weighted avg       0.78      0.77      0.77    359634\n",
      "\n"
     ]
    }
   ],
   "source": [
    "from sklearn.metrics import classification_report\n",
    "print(\"RF\",classification_report(y_test, rfPredict, target_names=None))\n",
    "print(\"XGB\",classification_report(y_test,xgb_pred, target_names=None))\n",
    "print(\"LR\",classification_report(y_test,lr_pred, target_names=None))\n",
    "print(\"DT\",classification_report(y_test, dt_pred, target_names=None))\n",
    "#print(\"MLP\",classification_report(y_test, predict_NN, target_names=None))"
   ]
  },
  {
   "cell_type": "markdown",
   "metadata": {},
   "source": [
    "EVALUATION METRICS"
   ]
  },
  {
   "cell_type": "code",
   "execution_count": 122,
   "metadata": {},
   "outputs": [],
   "source": [
    "rf_pred_prob_1=rf_pred_prob[:,1]"
   ]
  },
  {
   "cell_type": "code",
   "execution_count": 123,
   "metadata": {
    "scrolled": true
   },
   "outputs": [
    {
     "data": {
      "image/png": "[encoded data removed]",
      "text/plain": [
       "<Figure size 432x288 with 1 Axes>"
      ]
     },
     "metadata": {},
     "output_type": "display_data"
    }
   ],
   "source": [
    "from sklearn.metrics import roc_curve\n",
    "fpr,tpr,thresholds=roc_curve(y_test,rf_pred_prob_1)\n",
    "plt.plot(fpr,tpr)\n",
    "plt.xlim([0.0,1.0])\n",
    "plt.ylim([0.0,1.0])\n",
    "plt.title('ROC Curve')\n",
    "plt.xlabel('FalsePositiveRate')\n",
    "plt.ylabel('TruePositiveRate')\n",
    "plt.grid(True)"
   ]
  },
  {
   "cell_type": "code",
   "execution_count": null,
   "metadata": {},
   "outputs": [],
   "source": []
  }
 ],
 "metadata": {
  "kernelspec": {
   "display_name": "Python 3",
   "language": "python",
   "name": "python3"
  },
  "language_info": {
   "codemirror_mode": {
    "name": "ipython",
    "version": 3
   },
   "file_extension": ".py",
   "mimetype": "text/x-python",
   "name": "python",
   "nbconvert_exporter": "python",
   "pygments_lexer": "ipython3",
   "version": "3.7.1"
  }
 },
 "nbformat": 4,
 "nbformat_minor": 2
}
